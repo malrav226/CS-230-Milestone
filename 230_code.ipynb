{
  "cells": [
    {
      "cell_type": "markdown",
      "metadata": {
        "id": "qBjZQuFrQLMl"
      },
      "source": [
        "# 230 Project Code\n",
        "\n",
        "Original Data: https://paperswithcode.com/dataset/liar\n",
        "\n",
        "Dataset Description: https://www.kaggle.com/datasets/doanquanvietnamca/liar-dataset"
      ]
    },
    {
      "cell_type": "markdown",
      "source": [
        "## Imports/Data/EDA"
      ],
      "metadata": {
        "id": "UcAT-YQVfz28"
      }
    },
    {
      "cell_type": "code",
      "source": [
        "! pip install keras-tuner"
      ],
      "metadata": {
        "colab": {
          "base_uri": "https://localhost:8080/"
        },
        "id": "L5Gboo8ZiLl5",
        "outputId": "696fd73b-ba3e-43aa-bf81-fbb0c0e5968a"
      },
      "execution_count": 1,
      "outputs": [
        {
          "output_type": "stream",
          "name": "stdout",
          "text": [
            "Collecting keras-tuner\n",
            "  Downloading keras_tuner-1.4.7-py3-none-any.whl.metadata (5.4 kB)\n",
            "Requirement already satisfied: keras in /usr/local/lib/python3.10/dist-packages (from keras-tuner) (3.5.0)\n",
            "Requirement already satisfied: packaging in /usr/local/lib/python3.10/dist-packages (from keras-tuner) (24.2)\n",
            "Requirement already satisfied: requests in /usr/local/lib/python3.10/dist-packages (from keras-tuner) (2.32.3)\n",
            "Collecting kt-legacy (from keras-tuner)\n",
            "  Downloading kt_legacy-1.0.5-py3-none-any.whl.metadata (221 bytes)\n",
            "Requirement already satisfied: absl-py in /usr/local/lib/python3.10/dist-packages (from keras->keras-tuner) (1.4.0)\n",
            "Requirement already satisfied: numpy in /usr/local/lib/python3.10/dist-packages (from keras->keras-tuner) (1.26.4)\n",
            "Requirement already satisfied: rich in /usr/local/lib/python3.10/dist-packages (from keras->keras-tuner) (13.9.4)\n",
            "Requirement already satisfied: namex in /usr/local/lib/python3.10/dist-packages (from keras->keras-tuner) (0.0.8)\n",
            "Requirement already satisfied: h5py in /usr/local/lib/python3.10/dist-packages (from keras->keras-tuner) (3.12.1)\n",
            "Requirement already satisfied: optree in /usr/local/lib/python3.10/dist-packages (from keras->keras-tuner) (0.13.1)\n",
            "Requirement already satisfied: ml-dtypes in /usr/local/lib/python3.10/dist-packages (from keras->keras-tuner) (0.4.1)\n",
            "Requirement already satisfied: charset-normalizer<4,>=2 in /usr/local/lib/python3.10/dist-packages (from requests->keras-tuner) (3.4.0)\n",
            "Requirement already satisfied: idna<4,>=2.5 in /usr/local/lib/python3.10/dist-packages (from requests->keras-tuner) (3.10)\n",
            "Requirement already satisfied: urllib3<3,>=1.21.1 in /usr/local/lib/python3.10/dist-packages (from requests->keras-tuner) (2.2.3)\n",
            "Requirement already satisfied: certifi>=2017.4.17 in /usr/local/lib/python3.10/dist-packages (from requests->keras-tuner) (2024.8.30)\n",
            "Requirement already satisfied: typing-extensions>=4.5.0 in /usr/local/lib/python3.10/dist-packages (from optree->keras->keras-tuner) (4.12.2)\n",
            "Requirement already satisfied: markdown-it-py>=2.2.0 in /usr/local/lib/python3.10/dist-packages (from rich->keras->keras-tuner) (3.0.0)\n",
            "Requirement already satisfied: pygments<3.0.0,>=2.13.0 in /usr/local/lib/python3.10/dist-packages (from rich->keras->keras-tuner) (2.18.0)\n",
            "Requirement already satisfied: mdurl~=0.1 in /usr/local/lib/python3.10/dist-packages (from markdown-it-py>=2.2.0->rich->keras->keras-tuner) (0.1.2)\n",
            "Downloading keras_tuner-1.4.7-py3-none-any.whl (129 kB)\n",
            "\u001b[2K   \u001b[90m━━━━━━━━━━━━━━━━━━━━━━━━━━━━━━━━━━━━━━━━\u001b[0m \u001b[32m129.1/129.1 kB\u001b[0m \u001b[31m4.8 MB/s\u001b[0m eta \u001b[36m0:00:00\u001b[0m\n",
            "\u001b[?25hDownloading kt_legacy-1.0.5-py3-none-any.whl (9.6 kB)\n",
            "Installing collected packages: kt-legacy, keras-tuner\n",
            "Successfully installed keras-tuner-1.4.7 kt-legacy-1.0.5\n"
          ]
        }
      ]
    },
    {
      "cell_type": "code",
      "source": [
        "! pip install deep-translator\n"
      ],
      "metadata": {
        "colab": {
          "base_uri": "https://localhost:8080/"
        },
        "id": "OYS8E9r8mmt5",
        "outputId": "803b9ae9-bebf-4ebb-f3e5-75fd860071ba"
      },
      "execution_count": 2,
      "outputs": [
        {
          "output_type": "stream",
          "name": "stdout",
          "text": [
            "Collecting deep-translator\n",
            "  Downloading deep_translator-1.11.4-py3-none-any.whl.metadata (30 kB)\n",
            "Requirement already satisfied: beautifulsoup4<5.0.0,>=4.9.1 in /usr/local/lib/python3.10/dist-packages (from deep-translator) (4.12.3)\n",
            "Requirement already satisfied: requests<3.0.0,>=2.23.0 in /usr/local/lib/python3.10/dist-packages (from deep-translator) (2.32.3)\n",
            "Requirement already satisfied: soupsieve>1.2 in /usr/local/lib/python3.10/dist-packages (from beautifulsoup4<5.0.0,>=4.9.1->deep-translator) (2.6)\n",
            "Requirement already satisfied: charset-normalizer<4,>=2 in /usr/local/lib/python3.10/dist-packages (from requests<3.0.0,>=2.23.0->deep-translator) (3.4.0)\n",
            "Requirement already satisfied: idna<4,>=2.5 in /usr/local/lib/python3.10/dist-packages (from requests<3.0.0,>=2.23.0->deep-translator) (3.10)\n",
            "Requirement already satisfied: urllib3<3,>=1.21.1 in /usr/local/lib/python3.10/dist-packages (from requests<3.0.0,>=2.23.0->deep-translator) (2.2.3)\n",
            "Requirement already satisfied: certifi>=2017.4.17 in /usr/local/lib/python3.10/dist-packages (from requests<3.0.0,>=2.23.0->deep-translator) (2024.8.30)\n",
            "Downloading deep_translator-1.11.4-py3-none-any.whl (42 kB)\n",
            "\u001b[?25l   \u001b[90m━━━━━━━━━━━━━━━━━━━━━━━━━━━━━━━━━━━━━━━━\u001b[0m \u001b[32m0.0/42.3 kB\u001b[0m \u001b[31m?\u001b[0m eta \u001b[36m-:--:--\u001b[0m\r\u001b[2K   \u001b[90m━━━━━━━━━━━━━━━━━━━━━━━━━━━━━━━━━━━━━━━━\u001b[0m \u001b[32m42.3/42.3 kB\u001b[0m \u001b[31m3.0 MB/s\u001b[0m eta \u001b[36m0:00:00\u001b[0m\n",
            "\u001b[?25hInstalling collected packages: deep-translator\n",
            "Successfully installed deep-translator-1.11.4\n"
          ]
        }
      ]
    },
    {
      "cell_type": "code",
      "source": [
        "! pip install transformers\n"
      ],
      "metadata": {
        "colab": {
          "base_uri": "https://localhost:8080/"
        },
        "id": "ZM7EddSOuLZs",
        "outputId": "0cf2eae7-4b11-4350-8148-028af1b7a0b9"
      },
      "execution_count": 3,
      "outputs": [
        {
          "output_type": "stream",
          "name": "stdout",
          "text": [
            "Requirement already satisfied: transformers in /usr/local/lib/python3.10/dist-packages (4.46.2)\n",
            "Requirement already satisfied: filelock in /usr/local/lib/python3.10/dist-packages (from transformers) (3.16.1)\n",
            "Requirement already satisfied: huggingface-hub<1.0,>=0.23.2 in /usr/local/lib/python3.10/dist-packages (from transformers) (0.26.2)\n",
            "Requirement already satisfied: numpy>=1.17 in /usr/local/lib/python3.10/dist-packages (from transformers) (1.26.4)\n",
            "Requirement already satisfied: packaging>=20.0 in /usr/local/lib/python3.10/dist-packages (from transformers) (24.2)\n",
            "Requirement already satisfied: pyyaml>=5.1 in /usr/local/lib/python3.10/dist-packages (from transformers) (6.0.2)\n",
            "Requirement already satisfied: regex!=2019.12.17 in /usr/local/lib/python3.10/dist-packages (from transformers) (2024.9.11)\n",
            "Requirement already satisfied: requests in /usr/local/lib/python3.10/dist-packages (from transformers) (2.32.3)\n",
            "Requirement already satisfied: safetensors>=0.4.1 in /usr/local/lib/python3.10/dist-packages (from transformers) (0.4.5)\n",
            "Requirement already satisfied: tokenizers<0.21,>=0.20 in /usr/local/lib/python3.10/dist-packages (from transformers) (0.20.3)\n",
            "Requirement already satisfied: tqdm>=4.27 in /usr/local/lib/python3.10/dist-packages (from transformers) (4.66.6)\n",
            "Requirement already satisfied: fsspec>=2023.5.0 in /usr/local/lib/python3.10/dist-packages (from huggingface-hub<1.0,>=0.23.2->transformers) (2024.10.0)\n",
            "Requirement already satisfied: typing-extensions>=3.7.4.3 in /usr/local/lib/python3.10/dist-packages (from huggingface-hub<1.0,>=0.23.2->transformers) (4.12.2)\n",
            "Requirement already satisfied: charset-normalizer<4,>=2 in /usr/local/lib/python3.10/dist-packages (from requests->transformers) (3.4.0)\n",
            "Requirement already satisfied: idna<4,>=2.5 in /usr/local/lib/python3.10/dist-packages (from requests->transformers) (3.10)\n",
            "Requirement already satisfied: urllib3<3,>=1.21.1 in /usr/local/lib/python3.10/dist-packages (from requests->transformers) (2.2.3)\n",
            "Requirement already satisfied: certifi>=2017.4.17 in /usr/local/lib/python3.10/dist-packages (from requests->transformers) (2024.8.30)\n"
          ]
        }
      ]
    },
    {
      "cell_type": "code",
      "execution_count": 4,
      "metadata": {
        "id": "ZbuPI1ZnQMzS",
        "colab": {
          "base_uri": "https://localhost:8080/"
        },
        "outputId": "b107e8eb-18b9-4fd6-cb51-8f9c8eecdcc9"
      },
      "outputs": [
        {
          "output_type": "stream",
          "name": "stderr",
          "text": [
            "[nltk_data] Downloading package punkt_tab to /root/nltk_data...\n",
            "[nltk_data]   Unzipping tokenizers/punkt_tab.zip.\n",
            "[nltk_data] Downloading package wordnet to /root/nltk_data...\n"
          ]
        }
      ],
      "source": [
        "import pandas as pd\n",
        "import numpy as np\n",
        "import itertools\n",
        "import random\n",
        "import seaborn as sns\n",
        "import matplotlib.pyplot as plt\n",
        "from sklearn.model_selection import train_test_split\n",
        "from sklearn.feature_extraction.text import TfidfVectorizer\n",
        "from sklearn.linear_model import LogisticRegression\n",
        "from sklearn.metrics import classification_report, accuracy_score, confusion_matrix\n",
        "from sklearn.preprocessing import LabelEncoder\n",
        "from sklearn.utils import shuffle\n",
        "\n",
        "from tqdm import tqdm\n",
        "import nltk\n",
        "from nltk.corpus import wordnet\n",
        "from nltk.tokenize import word_tokenize\n",
        "nltk.download('punkt_tab')\n",
        "nltk.download('wordnet')\n",
        "from deep_translator import GoogleTranslator\n",
        "\n",
        "\n",
        "from tensorflow.keras.preprocessing.text import Tokenizer\n",
        "from tensorflow.keras.preprocessing.sequence import pad_sequences\n",
        "from tensorflow.keras.models import Sequential\n",
        "from tensorflow.keras.layers import Embedding, LSTM, Dense, Dropout, SpatialDropout1D\n",
        "from tensorflow.keras.optimizers import Adam\n",
        "from tensorflow.keras.callbacks import EarlyStopping\n",
        "import keras_tuner as kt\n",
        "\n",
        "import torch\n",
        "from transformers import DistilBertModel, DistilBertTokenizer, DistilBertForSequenceClassification\n",
        "from torch.utils.data import DataLoader, Dataset\n",
        "import torch.nn as nn\n",
        "import torch.optim as optim\n",
        "from transformers import EarlyStoppingCallback\n",
        "from transformers import TrainingArguments, Trainer\n",
        "\n",
        "\n",
        "# for plotting\n",
        "from sklearn.feature_extraction.text import CountVectorizer\n",
        "from nltk.stem import WordNetLemmatizer\n",
        "\n",
        "\n"
      ]
    },
    {
      "cell_type": "code",
      "execution_count": 7,
      "metadata": {
        "colab": {
          "base_uri": "https://localhost:8080/",
          "height": 660
        },
        "id": "pg-_FuioWj4j",
        "outputId": "5d42df22-d029-41c8-b806-ae5058ad6ab5"
      },
      "outputs": [
        {
          "output_type": "execute_result",
          "data": {
            "text/plain": [
              "           ID        label                                          statement  \\\n",
              "0   2635.json        false  Says the Annies List political group supports ...   \n",
              "1  10540.json    half-true  When did the decline of coal start? It started...   \n",
              "2    324.json  mostly-true  Hillary Clinton agrees with John McCain \"by vo...   \n",
              "3   1123.json        false  Health care reform legislation is likely to ma...   \n",
              "4   9028.json    half-true  The economic turnaround started at the end of ...   \n",
              "\n",
              "                           subject(s)         speaker   speaker's job title  \\\n",
              "0                            abortion    dwayne-bohac  State representative   \n",
              "1  energy,history,job-accomplishments  scott-surovell        State delegate   \n",
              "2                      foreign-policy    barack-obama             President   \n",
              "3                         health-care    blog-posting                   NaN   \n",
              "4                        economy,jobs   charlie-crist                   NaN   \n",
              "\n",
              "  state info party affiliation  barely true counts  false counts  \\\n",
              "0      Texas        republican                 0.0           1.0   \n",
              "1   Virginia          democrat                 0.0           0.0   \n",
              "2   Illinois          democrat                70.0          71.0   \n",
              "3        NaN              none                 7.0          19.0   \n",
              "4    Florida          democrat                15.0           9.0   \n",
              "\n",
              "   half true counts  mostly true counts  pants on fire counts  \\\n",
              "0               0.0                 0.0                   0.0   \n",
              "1               1.0                 1.0                   0.0   \n",
              "2             160.0               163.0                   9.0   \n",
              "3               3.0                 5.0                  44.0   \n",
              "4              20.0                19.0                   2.0   \n",
              "\n",
              "               context  \n",
              "0             a mailer  \n",
              "1      a floor speech.  \n",
              "2               Denver  \n",
              "3       a news release  \n",
              "4  an interview on CNN  "
            ],
            "text/html": [
              "\n",
              "  <div id=\"df-c85298ed-6b9c-4990-9ac1-fc1541290dd3\" class=\"colab-df-container\">\n",
              "    <div>\n",
              "<style scoped>\n",
              "    .dataframe tbody tr th:only-of-type {\n",
              "        vertical-align: middle;\n",
              "    }\n",
              "\n",
              "    .dataframe tbody tr th {\n",
              "        vertical-align: top;\n",
              "    }\n",
              "\n",
              "    .dataframe thead th {\n",
              "        text-align: right;\n",
              "    }\n",
              "</style>\n",
              "<table border=\"1\" class=\"dataframe\">\n",
              "  <thead>\n",
              "    <tr style=\"text-align: right;\">\n",
              "      <th></th>\n",
              "      <th>ID</th>\n",
              "      <th>label</th>\n",
              "      <th>statement</th>\n",
              "      <th>subject(s)</th>\n",
              "      <th>speaker</th>\n",
              "      <th>speaker's job title</th>\n",
              "      <th>state info</th>\n",
              "      <th>party affiliation</th>\n",
              "      <th>barely true counts</th>\n",
              "      <th>false counts</th>\n",
              "      <th>half true counts</th>\n",
              "      <th>mostly true counts</th>\n",
              "      <th>pants on fire counts</th>\n",
              "      <th>context</th>\n",
              "    </tr>\n",
              "  </thead>\n",
              "  <tbody>\n",
              "    <tr>\n",
              "      <th>0</th>\n",
              "      <td>2635.json</td>\n",
              "      <td>false</td>\n",
              "      <td>Says the Annies List political group supports ...</td>\n",
              "      <td>abortion</td>\n",
              "      <td>dwayne-bohac</td>\n",
              "      <td>State representative</td>\n",
              "      <td>Texas</td>\n",
              "      <td>republican</td>\n",
              "      <td>0.0</td>\n",
              "      <td>1.0</td>\n",
              "      <td>0.0</td>\n",
              "      <td>0.0</td>\n",
              "      <td>0.0</td>\n",
              "      <td>a mailer</td>\n",
              "    </tr>\n",
              "    <tr>\n",
              "      <th>1</th>\n",
              "      <td>10540.json</td>\n",
              "      <td>half-true</td>\n",
              "      <td>When did the decline of coal start? It started...</td>\n",
              "      <td>energy,history,job-accomplishments</td>\n",
              "      <td>scott-surovell</td>\n",
              "      <td>State delegate</td>\n",
              "      <td>Virginia</td>\n",
              "      <td>democrat</td>\n",
              "      <td>0.0</td>\n",
              "      <td>0.0</td>\n",
              "      <td>1.0</td>\n",
              "      <td>1.0</td>\n",
              "      <td>0.0</td>\n",
              "      <td>a floor speech.</td>\n",
              "    </tr>\n",
              "    <tr>\n",
              "      <th>2</th>\n",
              "      <td>324.json</td>\n",
              "      <td>mostly-true</td>\n",
              "      <td>Hillary Clinton agrees with John McCain \"by vo...</td>\n",
              "      <td>foreign-policy</td>\n",
              "      <td>barack-obama</td>\n",
              "      <td>President</td>\n",
              "      <td>Illinois</td>\n",
              "      <td>democrat</td>\n",
              "      <td>70.0</td>\n",
              "      <td>71.0</td>\n",
              "      <td>160.0</td>\n",
              "      <td>163.0</td>\n",
              "      <td>9.0</td>\n",
              "      <td>Denver</td>\n",
              "    </tr>\n",
              "    <tr>\n",
              "      <th>3</th>\n",
              "      <td>1123.json</td>\n",
              "      <td>false</td>\n",
              "      <td>Health care reform legislation is likely to ma...</td>\n",
              "      <td>health-care</td>\n",
              "      <td>blog-posting</td>\n",
              "      <td>NaN</td>\n",
              "      <td>NaN</td>\n",
              "      <td>none</td>\n",
              "      <td>7.0</td>\n",
              "      <td>19.0</td>\n",
              "      <td>3.0</td>\n",
              "      <td>5.0</td>\n",
              "      <td>44.0</td>\n",
              "      <td>a news release</td>\n",
              "    </tr>\n",
              "    <tr>\n",
              "      <th>4</th>\n",
              "      <td>9028.json</td>\n",
              "      <td>half-true</td>\n",
              "      <td>The economic turnaround started at the end of ...</td>\n",
              "      <td>economy,jobs</td>\n",
              "      <td>charlie-crist</td>\n",
              "      <td>NaN</td>\n",
              "      <td>Florida</td>\n",
              "      <td>democrat</td>\n",
              "      <td>15.0</td>\n",
              "      <td>9.0</td>\n",
              "      <td>20.0</td>\n",
              "      <td>19.0</td>\n",
              "      <td>2.0</td>\n",
              "      <td>an interview on CNN</td>\n",
              "    </tr>\n",
              "  </tbody>\n",
              "</table>\n",
              "</div>\n",
              "    <div class=\"colab-df-buttons\">\n",
              "\n",
              "  <div class=\"colab-df-container\">\n",
              "    <button class=\"colab-df-convert\" onclick=\"convertToInteractive('df-c85298ed-6b9c-4990-9ac1-fc1541290dd3')\"\n",
              "            title=\"Convert this dataframe to an interactive table.\"\n",
              "            style=\"display:none;\">\n",
              "\n",
              "  <svg xmlns=\"http://www.w3.org/2000/svg\" height=\"24px\" viewBox=\"0 -960 960 960\">\n",
              "    <path d=\"M120-120v-720h720v720H120Zm60-500h600v-160H180v160Zm220 220h160v-160H400v160Zm0 220h160v-160H400v160ZM180-400h160v-160H180v160Zm440 0h160v-160H620v160ZM180-180h160v-160H180v160Zm440 0h160v-160H620v160Z\"/>\n",
              "  </svg>\n",
              "    </button>\n",
              "\n",
              "  <style>\n",
              "    .colab-df-container {\n",
              "      display:flex;\n",
              "      gap: 12px;\n",
              "    }\n",
              "\n",
              "    .colab-df-convert {\n",
              "      background-color: #E8F0FE;\n",
              "      border: none;\n",
              "      border-radius: 50%;\n",
              "      cursor: pointer;\n",
              "      display: none;\n",
              "      fill: #1967D2;\n",
              "      height: 32px;\n",
              "      padding: 0 0 0 0;\n",
              "      width: 32px;\n",
              "    }\n",
              "\n",
              "    .colab-df-convert:hover {\n",
              "      background-color: #E2EBFA;\n",
              "      box-shadow: 0px 1px 2px rgba(60, 64, 67, 0.3), 0px 1px 3px 1px rgba(60, 64, 67, 0.15);\n",
              "      fill: #174EA6;\n",
              "    }\n",
              "\n",
              "    .colab-df-buttons div {\n",
              "      margin-bottom: 4px;\n",
              "    }\n",
              "\n",
              "    [theme=dark] .colab-df-convert {\n",
              "      background-color: #3B4455;\n",
              "      fill: #D2E3FC;\n",
              "    }\n",
              "\n",
              "    [theme=dark] .colab-df-convert:hover {\n",
              "      background-color: #434B5C;\n",
              "      box-shadow: 0px 1px 3px 1px rgba(0, 0, 0, 0.15);\n",
              "      filter: drop-shadow(0px 1px 2px rgba(0, 0, 0, 0.3));\n",
              "      fill: #FFFFFF;\n",
              "    }\n",
              "  </style>\n",
              "\n",
              "    <script>\n",
              "      const buttonEl =\n",
              "        document.querySelector('#df-c85298ed-6b9c-4990-9ac1-fc1541290dd3 button.colab-df-convert');\n",
              "      buttonEl.style.display =\n",
              "        google.colab.kernel.accessAllowed ? 'block' : 'none';\n",
              "\n",
              "      async function convertToInteractive(key) {\n",
              "        const element = document.querySelector('#df-c85298ed-6b9c-4990-9ac1-fc1541290dd3');\n",
              "        const dataTable =\n",
              "          await google.colab.kernel.invokeFunction('convertToInteractive',\n",
              "                                                    [key], {});\n",
              "        if (!dataTable) return;\n",
              "\n",
              "        const docLinkHtml = 'Like what you see? Visit the ' +\n",
              "          '<a target=\"_blank\" href=https://colab.research.google.com/notebooks/data_table.ipynb>data table notebook</a>'\n",
              "          + ' to learn more about interactive tables.';\n",
              "        element.innerHTML = '';\n",
              "        dataTable['output_type'] = 'display_data';\n",
              "        await google.colab.output.renderOutput(dataTable, element);\n",
              "        const docLink = document.createElement('div');\n",
              "        docLink.innerHTML = docLinkHtml;\n",
              "        element.appendChild(docLink);\n",
              "      }\n",
              "    </script>\n",
              "  </div>\n",
              "\n",
              "\n",
              "<div id=\"df-7e5de4ce-ea80-4c69-b2a0-d500e9b3ee89\">\n",
              "  <button class=\"colab-df-quickchart\" onclick=\"quickchart('df-7e5de4ce-ea80-4c69-b2a0-d500e9b3ee89')\"\n",
              "            title=\"Suggest charts\"\n",
              "            style=\"display:none;\">\n",
              "\n",
              "<svg xmlns=\"http://www.w3.org/2000/svg\" height=\"24px\"viewBox=\"0 0 24 24\"\n",
              "     width=\"24px\">\n",
              "    <g>\n",
              "        <path d=\"M19 3H5c-1.1 0-2 .9-2 2v14c0 1.1.9 2 2 2h14c1.1 0 2-.9 2-2V5c0-1.1-.9-2-2-2zM9 17H7v-7h2v7zm4 0h-2V7h2v10zm4 0h-2v-4h2v4z\"/>\n",
              "    </g>\n",
              "</svg>\n",
              "  </button>\n",
              "\n",
              "<style>\n",
              "  .colab-df-quickchart {\n",
              "      --bg-color: #E8F0FE;\n",
              "      --fill-color: #1967D2;\n",
              "      --hover-bg-color: #E2EBFA;\n",
              "      --hover-fill-color: #174EA6;\n",
              "      --disabled-fill-color: #AAA;\n",
              "      --disabled-bg-color: #DDD;\n",
              "  }\n",
              "\n",
              "  [theme=dark] .colab-df-quickchart {\n",
              "      --bg-color: #3B4455;\n",
              "      --fill-color: #D2E3FC;\n",
              "      --hover-bg-color: #434B5C;\n",
              "      --hover-fill-color: #FFFFFF;\n",
              "      --disabled-bg-color: #3B4455;\n",
              "      --disabled-fill-color: #666;\n",
              "  }\n",
              "\n",
              "  .colab-df-quickchart {\n",
              "    background-color: var(--bg-color);\n",
              "    border: none;\n",
              "    border-radius: 50%;\n",
              "    cursor: pointer;\n",
              "    display: none;\n",
              "    fill: var(--fill-color);\n",
              "    height: 32px;\n",
              "    padding: 0;\n",
              "    width: 32px;\n",
              "  }\n",
              "\n",
              "  .colab-df-quickchart:hover {\n",
              "    background-color: var(--hover-bg-color);\n",
              "    box-shadow: 0 1px 2px rgba(60, 64, 67, 0.3), 0 1px 3px 1px rgba(60, 64, 67, 0.15);\n",
              "    fill: var(--button-hover-fill-color);\n",
              "  }\n",
              "\n",
              "  .colab-df-quickchart-complete:disabled,\n",
              "  .colab-df-quickchart-complete:disabled:hover {\n",
              "    background-color: var(--disabled-bg-color);\n",
              "    fill: var(--disabled-fill-color);\n",
              "    box-shadow: none;\n",
              "  }\n",
              "\n",
              "  .colab-df-spinner {\n",
              "    border: 2px solid var(--fill-color);\n",
              "    border-color: transparent;\n",
              "    border-bottom-color: var(--fill-color);\n",
              "    animation:\n",
              "      spin 1s steps(1) infinite;\n",
              "  }\n",
              "\n",
              "  @keyframes spin {\n",
              "    0% {\n",
              "      border-color: transparent;\n",
              "      border-bottom-color: var(--fill-color);\n",
              "      border-left-color: var(--fill-color);\n",
              "    }\n",
              "    20% {\n",
              "      border-color: transparent;\n",
              "      border-left-color: var(--fill-color);\n",
              "      border-top-color: var(--fill-color);\n",
              "    }\n",
              "    30% {\n",
              "      border-color: transparent;\n",
              "      border-left-color: var(--fill-color);\n",
              "      border-top-color: var(--fill-color);\n",
              "      border-right-color: var(--fill-color);\n",
              "    }\n",
              "    40% {\n",
              "      border-color: transparent;\n",
              "      border-right-color: var(--fill-color);\n",
              "      border-top-color: var(--fill-color);\n",
              "    }\n",
              "    60% {\n",
              "      border-color: transparent;\n",
              "      border-right-color: var(--fill-color);\n",
              "    }\n",
              "    80% {\n",
              "      border-color: transparent;\n",
              "      border-right-color: var(--fill-color);\n",
              "      border-bottom-color: var(--fill-color);\n",
              "    }\n",
              "    90% {\n",
              "      border-color: transparent;\n",
              "      border-bottom-color: var(--fill-color);\n",
              "    }\n",
              "  }\n",
              "</style>\n",
              "\n",
              "  <script>\n",
              "    async function quickchart(key) {\n",
              "      const quickchartButtonEl =\n",
              "        document.querySelector('#' + key + ' button');\n",
              "      quickchartButtonEl.disabled = true;  // To prevent multiple clicks.\n",
              "      quickchartButtonEl.classList.add('colab-df-spinner');\n",
              "      try {\n",
              "        const charts = await google.colab.kernel.invokeFunction(\n",
              "            'suggestCharts', [key], {});\n",
              "      } catch (error) {\n",
              "        console.error('Error during call to suggestCharts:', error);\n",
              "      }\n",
              "      quickchartButtonEl.classList.remove('colab-df-spinner');\n",
              "      quickchartButtonEl.classList.add('colab-df-quickchart-complete');\n",
              "    }\n",
              "    (() => {\n",
              "      let quickchartButtonEl =\n",
              "        document.querySelector('#df-7e5de4ce-ea80-4c69-b2a0-d500e9b3ee89 button');\n",
              "      quickchartButtonEl.style.display =\n",
              "        google.colab.kernel.accessAllowed ? 'block' : 'none';\n",
              "    })();\n",
              "  </script>\n",
              "</div>\n",
              "\n",
              "    </div>\n",
              "  </div>\n"
            ],
            "application/vnd.google.colaboratory.intrinsic+json": {
              "type": "dataframe",
              "variable_name": "train_df",
              "summary": "{\n  \"name\": \"train_df\",\n  \"rows\": 10240,\n  \"fields\": [\n    {\n      \"column\": \"ID\",\n      \"properties\": {\n        \"dtype\": \"string\",\n        \"num_unique_values\": 10240,\n        \"samples\": [\n          \"10626.json\",\n          \"1520.json\",\n          \"1326.json\"\n        ],\n        \"semantic_type\": \"\",\n        \"description\": \"\"\n      }\n    },\n    {\n      \"column\": \"label\",\n      \"properties\": {\n        \"dtype\": \"category\",\n        \"num_unique_values\": 6,\n        \"samples\": [\n          \"false\",\n          \"half-true\",\n          \"pants-fire\"\n        ],\n        \"semantic_type\": \"\",\n        \"description\": \"\"\n      }\n    },\n    {\n      \"column\": \"statement\",\n      \"properties\": {\n        \"dtype\": \"string\",\n        \"num_unique_values\": 10223,\n        \"samples\": [\n          \"Countries bombed: Obama 7, Bush 4\",\n          \"Says she couldn't take stimulus money because it required \\\"universal building codes.\\\"\",\n          \"In the past decade, K-12 funding has grown six times faster than the rate of enrollment.\"\n        ],\n        \"semantic_type\": \"\",\n        \"description\": \"\"\n      }\n    },\n    {\n      \"column\": \"subject(s)\",\n      \"properties\": {\n        \"dtype\": \"category\",\n        \"num_unique_values\": 3827,\n        \"samples\": [\n          \"military,new-hampshire-2012\",\n          \"city-budget,city-government,county-budget,county-government,taxes\",\n          \"children,families,poverty,welfare\"\n        ],\n        \"semantic_type\": \"\",\n        \"description\": \"\"\n      }\n    },\n    {\n      \"column\": \"speaker\",\n      \"properties\": {\n        \"dtype\": \"category\",\n        \"num_unique_values\": 2910,\n        \"samples\": [\n          \"ken-plum\",\n          \"mike-adams\",\n          \"tom-harkin\"\n        ],\n        \"semantic_type\": \"\",\n        \"description\": \"\"\n      }\n    },\n    {\n      \"column\": \"speaker's job title\",\n      \"properties\": {\n        \"dtype\": \"category\",\n        \"num_unique_values\": 1183,\n        \"samples\": [\n          \"Candidate, Multnomah County commission\",\n          \"policy analyst, The Tax Foundation\",\n          \"campaign committee\"\n        ],\n        \"semantic_type\": \"\",\n        \"description\": \"\"\n      }\n    },\n    {\n      \"column\": \"state info\",\n      \"properties\": {\n        \"dtype\": \"category\",\n        \"num_unique_values\": 83,\n        \"samples\": [\n          \"Illinois \",\n          \"Texas\",\n          \"Wyoming\"\n        ],\n        \"semantic_type\": \"\",\n        \"description\": \"\"\n      }\n    },\n    {\n      \"column\": \"party affiliation\",\n      \"properties\": {\n        \"dtype\": \"category\",\n        \"num_unique_values\": 23,\n        \"samples\": [\n          \"tea-party-member\",\n          \"newsmaker\",\n          \"republican\"\n        ],\n        \"semantic_type\": \"\",\n        \"description\": \"\"\n      }\n    },\n    {\n      \"column\": \"barely true counts\",\n      \"properties\": {\n        \"dtype\": \"number\",\n        \"std\": 18.9737643185268,\n        \"min\": 0.0,\n        \"max\": 70.0,\n        \"num_unique_values\": 30,\n        \"samples\": [\n          8.0,\n          13.0,\n          26.0\n        ],\n        \"semantic_type\": \"\",\n        \"description\": \"\"\n      }\n    },\n    {\n      \"column\": \"false counts\",\n      \"properties\": {\n        \"dtype\": \"number\",\n        \"std\": 24.11293628542088,\n        \"min\": 0.0,\n        \"max\": 114.0,\n        \"num_unique_values\": 30,\n        \"samples\": [\n          18.0,\n          43.0,\n          11.0\n        ],\n        \"semantic_type\": \"\",\n        \"description\": \"\"\n      }\n    },\n    {\n      \"column\": \"half true counts\",\n      \"properties\": {\n        \"dtype\": \"number\",\n        \"std\": 35.846510979322154,\n        \"min\": 0.0,\n        \"max\": 160.0,\n        \"num_unique_values\": 29,\n        \"samples\": [\n          12.0,\n          7.0,\n          38.0\n        ],\n        \"semantic_type\": \"\",\n        \"description\": \"\"\n      }\n    },\n    {\n      \"column\": \"mostly true counts\",\n      \"properties\": {\n        \"dtype\": \"number\",\n        \"std\": 36.15168793284596,\n        \"min\": 0.0,\n        \"max\": 163.0,\n        \"num_unique_values\": 27,\n        \"samples\": [\n          4.0,\n          6.0,\n          2.0\n        ],\n        \"semantic_type\": \"\",\n        \"description\": \"\"\n      }\n    },\n    {\n      \"column\": \"pants on fire counts\",\n      \"properties\": {\n        \"dtype\": \"number\",\n        \"std\": 16.12892735191374,\n        \"min\": 0.0,\n        \"max\": 105.0,\n        \"num_unique_values\": 20,\n        \"samples\": [\n          0.0,\n          6.0,\n          10.0\n        ],\n        \"semantic_type\": \"\",\n        \"description\": \"\"\n      }\n    },\n    {\n      \"column\": \"context\",\n      \"properties\": {\n        \"dtype\": \"category\",\n        \"num_unique_values\": 4345,\n        \"samples\": [\n          \"a broadcast of \\\"The Kelly File\\\"\",\n          \"a Spanish-language radio ad\",\n          \"an appearance on ABC's \\\"This Week.\\\"\"\n        ],\n        \"semantic_type\": \"\",\n        \"description\": \"\"\n      }\n    }\n  ]\n}"
            }
          },
          "metadata": {},
          "execution_count": 7
        }
      ],
      "source": [
        "column_names = [\n",
        "    \"ID\",\n",
        "    \"label\",\n",
        "    \"statement\",\n",
        "    \"subject(s)\",\n",
        "    \"speaker\",\n",
        "    \"speaker's job title\",\n",
        "    \"state info\",\n",
        "    \"party affiliation\",\n",
        "    \"barely true counts\",\n",
        "    \"false counts\",\n",
        "    \"half true counts\",\n",
        "    \"mostly true counts\",\n",
        "    \"pants on fire counts\",\n",
        "    \"context\"\n",
        "]\n",
        "\n",
        "train_df = pd.read_csv('train.tsv', sep='\\t', header = None, names=column_names)\n",
        "val_df = pd.read_csv('valid.tsv', sep='\\t', header = None, names=column_names)\n",
        "test_df = pd.read_csv('test.tsv', sep='\\t', header = None, names=column_names)\n",
        "\n",
        "train_df.head()\n"
      ]
    },
    {
      "cell_type": "code",
      "execution_count": 12,
      "metadata": {
        "colab": {
          "base_uri": "https://localhost:8080/"
        },
        "id": "qejFiOFAVXZ_",
        "outputId": "c49b524f-b6ae-479f-fc4b-1cbe92f442e3"
      },
      "outputs": [
        {
          "output_type": "stream",
          "name": "stdout",
          "text": [
            "10240\n",
            "1284\n",
            "1267\n"
          ]
        }
      ],
      "source": [
        "print(len(train_df))\n",
        "print(len(val_df))\n",
        "print(len(test_df))"
      ]
    },
    {
      "cell_type": "code",
      "execution_count": 13,
      "metadata": {
        "colab": {
          "base_uri": "https://localhost:8080/"
        },
        "id": "iOaZ7DGK9aMZ",
        "outputId": "4a9f334a-d2f2-4034-f39b-2b16a782d2ae"
      },
      "outputs": [
        {
          "output_type": "stream",
          "name": "stdout",
          "text": [
            "Says the Annies List political group supports third-trimester abortions on demand.\n",
            "Assault weapons and handguns are allowed in the state Capitol while bullhorns, trumpets, helium balloons and flags on poles are banned.\n"
          ]
        }
      ],
      "source": [
        "# look at some examples of the code\n",
        "print(train_df['statement'].iloc[0])\n",
        "print(train_df[train_df['statement'].str.contains('trump')]['statement'].iloc[0])\n"
      ]
    },
    {
      "cell_type": "code",
      "execution_count": 10,
      "metadata": {
        "colab": {
          "base_uri": "https://localhost:8080/",
          "height": 1000
        },
        "id": "66XTzpOtWtBj",
        "outputId": "bcb84e4c-3133-4ca9-873b-673a659ab2fa"
      },
      "outputs": [
        {
          "output_type": "stream",
          "name": "stderr",
          "text": [
            "<ipython-input-10-44af6a5a306c>:14: FutureWarning: Series.__getitem__ treating keys as positions is deprecated. In a future version, integer keys will always be treated as labels (consistent with DataFrame behavior). To access a value by position, use `ser.iloc[pos]`\n",
            "  plt.text(i, count + 0.5, f'{percentages[i]:.1f}%', ha='center',  fontsize=12)\n"
          ]
        },
        {
          "output_type": "display_data",
          "data": {
            "text/plain": [
              "<Figure size 800x600 with 1 Axes>"
            ],
            "image/png": "[encoded data removed]"
          },
          "metadata": {}
        },
        {
          "output_type": "stream",
          "name": "stderr",
          "text": [
            "<ipython-input-10-44af6a5a306c>:14: FutureWarning: Series.__getitem__ treating keys as positions is deprecated. In a future version, integer keys will always be treated as labels (consistent with DataFrame behavior). To access a value by position, use `ser.iloc[pos]`\n",
            "  plt.text(i, count + 0.5, f'{percentages[i]:.1f}%', ha='center',  fontsize=12)\n"
          ]
        },
        {
          "output_type": "display_data",
          "data": {
            "text/plain": [
              "<Figure size 800x600 with 1 Axes>"
            ],
            "image/png": "[encoded data removed]"
          },
          "metadata": {}
        },
        {
          "output_type": "stream",
          "name": "stderr",
          "text": [
            "<ipython-input-10-44af6a5a306c>:14: FutureWarning: Series.__getitem__ treating keys as positions is deprecated. In a future version, integer keys will always be treated as labels (consistent with DataFrame behavior). To access a value by position, use `ser.iloc[pos]`\n",
            "  plt.text(i, count + 0.5, f'{percentages[i]:.1f}%', ha='center',  fontsize=12)\n"
          ]
        },
        {
          "output_type": "display_data",
          "data": {
            "text/plain": [
              "<Figure size 800x600 with 1 Axes>"
            ],
            "image/png": "[encoded data removed]"
          },
          "metadata": {}
        }
      ],
      "source": [
        "# CHAT GPT Assisted with the creation of this plotting function\n",
        "\n",
        "def plot_label_distribution(df, title, color, label_column):\n",
        "    counts = df[label_column].value_counts()\n",
        "    percentages = df[label_column].value_counts(normalize=True) * 100\n",
        "\n",
        "    plt.figure(figsize=(8, 6))\n",
        "    plt.bar(counts.index, counts.values, color=color)\n",
        "    plt.title(f'{title} Label Distribution')\n",
        "    plt.xlabel('Labels')\n",
        "    plt.ylabel('Count')\n",
        "\n",
        "    for i, count in enumerate(counts):\n",
        "        plt.text(i, count + 0.5, f'{percentages[i]:.1f}%', ha='center',  fontsize=12)\n",
        "\n",
        "    plt.show()\n",
        "\n",
        "plot_label_distribution(train_df, 'Train Data', 'skyblue', 'label')\n",
        "plot_label_distribution(val_df, 'Validation Data', 'skyblue', 'label')\n",
        "plot_label_distribution(test_df, 'Test Data', 'skyblue', 'label')\n"
      ]
    },
    {
      "cell_type": "markdown",
      "metadata": {
        "id": "adpDqyqBuD8v"
      },
      "source": [
        "We see that other than the \"pants-fire\" label, the labels are pretty evenly distributed. We will attempt to consolidate to make the classification task simpler. Our mapping will be as follows:\n",
        "\n",
        "- True/Mostly True: true, mostly-true\n",
        "\n",
        "- Partially True: half-true, barely-true\n",
        "\n",
        "- False: false, pants-fire\n",
        "\n"
      ]
    },
    {
      "cell_type": "code",
      "execution_count": 11,
      "metadata": {
        "id": "t2d_KTeruuw5"
      },
      "outputs": [],
      "source": [
        "label_mapping = {\n",
        "    'true': 'True/Mostly True',\n",
        "    'mostly-true': 'True/Mostly True',\n",
        "    'half-true': 'Partially True',\n",
        "    'barely-true': 'Partially True',\n",
        "    'false': 'False',\n",
        "    'pants-fire': 'False'\n",
        "}\n",
        "\n",
        "train_df['grouped_label'] = train_df['label'].map(label_mapping)\n",
        "val_df['grouped_label'] = val_df['label'].map(label_mapping)\n",
        "test_df['grouped_label'] = test_df['label'].map(label_mapping)\n"
      ]
    },
    {
      "cell_type": "code",
      "execution_count": 12,
      "metadata": {
        "colab": {
          "base_uri": "https://localhost:8080/",
          "height": 1000
        },
        "id": "n6QIXAnBxs0d",
        "outputId": "5f7c6e5d-8db2-45eb-af22-7ebbe8677d9b"
      },
      "outputs": [
        {
          "output_type": "stream",
          "name": "stderr",
          "text": [
            "<ipython-input-10-44af6a5a306c>:14: FutureWarning: Series.__getitem__ treating keys as positions is deprecated. In a future version, integer keys will always be treated as labels (consistent with DataFrame behavior). To access a value by position, use `ser.iloc[pos]`\n",
            "  plt.text(i, count + 0.5, f'{percentages[i]:.1f}%', ha='center',  fontsize=12)\n"
          ]
        },
        {
          "output_type": "display_data",
          "data": {
            "text/plain": [
              "<Figure size 800x600 with 1 Axes>"
            ],
            "image/png": "[encoded data removed]"
          },
          "metadata": {}
        },
        {
          "output_type": "stream",
          "name": "stderr",
          "text": [
            "<ipython-input-10-44af6a5a306c>:14: FutureWarning: Series.__getitem__ treating keys as positions is deprecated. In a future version, integer keys will always be treated as labels (consistent with DataFrame behavior). To access a value by position, use `ser.iloc[pos]`\n",
            "  plt.text(i, count + 0.5, f'{percentages[i]:.1f}%', ha='center',  fontsize=12)\n"
          ]
        },
        {
          "output_type": "display_data",
          "data": {
            "text/plain": [
              "<Figure size 800x600 with 1 Axes>"
            ],
            "image/png": "[encoded data removed]"
          },
          "metadata": {}
        },
        {
          "output_type": "stream",
          "name": "stderr",
          "text": [
            "<ipython-input-10-44af6a5a306c>:14: FutureWarning: Series.__getitem__ treating keys as positions is deprecated. In a future version, integer keys will always be treated as labels (consistent with DataFrame behavior). To access a value by position, use `ser.iloc[pos]`\n",
            "  plt.text(i, count + 0.5, f'{percentages[i]:.1f}%', ha='center',  fontsize=12)\n"
          ]
        },
        {
          "output_type": "display_data",
          "data": {
            "text/plain": [
              "<Figure size 800x600 with 1 Axes>"
            ],
            "image/png": "[encoded data removed]"
          },
          "metadata": {}
        }
      ],
      "source": [
        "plot_label_distribution(train_df, 'Train Data', 'skyblue', 'grouped_label')\n",
        "plot_label_distribution(val_df, 'Validation Data', 'skyblue', 'grouped_label')\n",
        "plot_label_distribution(test_df, 'Test Data', 'skyblue', 'grouped_label')\n"
      ]
    },
    {
      "cell_type": "markdown",
      "source": [
        "## Create Augmented Version of the Data\n",
        "\n",
        "Augmentations Include:\n",
        "- 1-word random insertion\n",
        "- Randomly deleting words with 20% probability\n",
        "- Replacing a radom word with a synonym (using wordnet)\n",
        "- backtranslation (to spanish and back) using GoogleTranslator"
      ],
      "metadata": {
        "id": "JW_G2kgGid8H"
      }
    },
    {
      "cell_type": "code",
      "source": [
        "# CHATGPT ASSISTED WITH THE CREATION OF THESE AUGMENTATION FUNCTIONS\n",
        "def random_word_insertion(sentence, n=1):\n",
        "    words = word_tokenize(sentence)\n",
        "    for _ in range(n):\n",
        "        new_word = random.choice(words)\n",
        "        insert_position = random.randint(0, len(words))\n",
        "        words.insert(insert_position, new_word)\n",
        "    return ' '.join(words)\n",
        "\n",
        "def random_word_deletion(sentence, p=0.2):\n",
        "    words = word_tokenize(sentence)\n",
        "    if len(words) == 1:\n",
        "        return sentence\n",
        "    retained_words = [word for word in words if random.uniform(0, 1) > p]\n",
        "    return ' '.join(retained_words) if retained_words else words[0]\n",
        "\n",
        "def synonym_replacement(sentence, n=1):\n",
        "    words = word_tokenize(sentence)\n",
        "    new_sentence = words[:]\n",
        "    for _ in range(n):\n",
        "        word_to_replace = random.choice(words)\n",
        "        synonyms = wordnet.synsets(word_to_replace)\n",
        "        if synonyms:\n",
        "            synonym = synonyms[0].lemmas()[0].name()\n",
        "            new_sentence = [synonym if word == word_to_replace else word for word in new_sentence]\n",
        "    return ' '.join(new_sentence)\n",
        "\n",
        "def back_translation(sentence):\n",
        "    translated = GoogleTranslator(source='en', target='es').translate(sentence)\n",
        "    back_translated = GoogleTranslator(source='es', target='en').translate(translated)\n",
        "    return back_translated\n",
        "\n",
        "# test back translation\n",
        "sentence = \"Says the Annies List political group supports third-trimester abortions on demand.\"\n",
        "print(back_translation(sentence))"
      ],
      "metadata": {
        "colab": {
          "base_uri": "https://localhost:8080/"
        },
        "id": "Rk7bXztEk39h",
        "outputId": "73381c62-6e5f-4e23-d2dd-627a5859315f"
      },
      "execution_count": null,
      "outputs": [
        {
          "output_type": "stream",
          "name": "stdout",
          "text": [
            "She says the political group Annies List supports third-trimester abortions on demand.\n"
          ]
        }
      ]
    },
    {
      "cell_type": "code",
      "source": [
        "# apply augmentations to training data\n",
        "# note: this cell will take a while to run\n",
        "\n",
        "sentences = train_df['statement']\n",
        "augmentation_types =  ['inserted', 'deleted', 'synonym_replaced', 'back_translated']\n",
        "\n",
        "augmented_data = []\n",
        "for row in train_df.iterrows():\n",
        "\n",
        "    sentence = row[1]['statement']\n",
        "    #print(sentence)\n",
        "\n",
        "    # apply all the transformations\n",
        "    inserted = random_word_insertion(sentence, n=1)\n",
        "    deleted = random_word_deletion(sentence, p=0.2)\n",
        "    synonym_replaced = synonym_replacement(sentence, n=1)\n",
        "    back_translated = back_translation(sentence)\n",
        "\n",
        "    for augmented_sentence, column_name in zip([inserted, deleted, synonym_replaced, back_translated], augmentation_types):\n",
        "\n",
        "        # we want to replicate all other columns except for the statement\n",
        "        # add column tracking augmentation type\n",
        "        augmented_row = row[1].copy()\n",
        "        augmented_row['statement'] = augmented_sentence\n",
        "        augmented_row['augmentation_type'] = column_name\n",
        "        augmented_data.append(augmented_row)\n",
        "        #break\n",
        "    #break\n",
        "\n",
        "\n",
        "train_df_augmented = pd.DataFrame(augmented_data)\n",
        "\n",
        "# write to csv so we do not have to re-do this step after it is done\n",
        "train_df_augmented.to_csv('augmented_data.csv', index=False)\n"
      ],
      "metadata": {
        "id": "NmMGLXqAidhd"
      },
      "execution_count": null,
      "outputs": []
    },
    {
      "cell_type": "code",
      "source": [
        "# combine this with the \"original\" statements in train_df\n",
        "train_df_augmented = pd.read_csv('augmented_data.csv')\n",
        "train_df['augmentation_type'] = 'original'\n",
        "train_df_combined = pd.concat([train_df, train_df_augmented], ignore_index=True)\n",
        "\n",
        "# fix boolean issue-- one 'False' is a boolean\n",
        "train_df_combined['grouped_label'] = train_df_combined['grouped_label'].replace({False: 'False'})\n"
      ],
      "metadata": {
        "id": "Uux6MJuyq5ev"
      },
      "execution_count": 13,
      "outputs": []
    },
    {
      "cell_type": "markdown",
      "metadata": {
        "id": "E9WxgdIax4xw"
      },
      "source": [
        "## Baseline: Logistic Regression with TF-IDF\n"
      ]
    },
    {
      "cell_type": "code",
      "execution_count": null,
      "metadata": {
        "id": "wGcoboEixwUp"
      },
      "outputs": [],
      "source": [
        "# define X, Y for train/val/test\n",
        "X_train = train_df['statement']\n",
        "y_train = train_df['grouped_label']\n",
        "\n",
        "X_val = val_df['statement']\n",
        "y_val = val_df['grouped_label']\n",
        "\n",
        "X_test = test_df['statement']\n",
        "y_test = test_df['grouped_label']\n"
      ]
    },
    {
      "cell_type": "code",
      "execution_count": null,
      "metadata": {
        "id": "9dnJ6gB9a5sQ",
        "colab": {
          "base_uri": "https://localhost:8080/",
          "height": 80
        },
        "outputId": "b745517f-57d0-4b48-9097-73b62d159aac"
      },
      "outputs": [
        {
          "output_type": "execute_result",
          "data": {
            "text/plain": [
              "LogisticRegression()"
            ],
            "text/html": [
              "<style>#sk-container-id-1 {\n",
              "  /* Definition of color scheme common for light and dark mode */\n",
              "  --sklearn-color-text: black;\n",
              "  --sklearn-color-line: gray;\n",
              "  /* Definition of color scheme for unfitted estimators */\n",
              "  --sklearn-color-unfitted-level-0: #fff5e6;\n",
              "  --sklearn-color-unfitted-level-1: #f6e4d2;\n",
              "  --sklearn-color-unfitted-level-2: #ffe0b3;\n",
              "  --sklearn-color-unfitted-level-3: chocolate;\n",
              "  /* Definition of color scheme for fitted estimators */\n",
              "  --sklearn-color-fitted-level-0: #f0f8ff;\n",
              "  --sklearn-color-fitted-level-1: #d4ebff;\n",
              "  --sklearn-color-fitted-level-2: #b3dbfd;\n",
              "  --sklearn-color-fitted-level-3: cornflowerblue;\n",
              "\n",
              "  /* Specific color for light theme */\n",
              "  --sklearn-color-text-on-default-background: var(--sg-text-color, var(--theme-code-foreground, var(--jp-content-font-color1, black)));\n",
              "  --sklearn-color-background: var(--sg-background-color, var(--theme-background, var(--jp-layout-color0, white)));\n",
              "  --sklearn-color-border-box: var(--sg-text-color, var(--theme-code-foreground, var(--jp-content-font-color1, black)));\n",
              "  --sklearn-color-icon: #696969;\n",
              "\n",
              "  @media (prefers-color-scheme: dark) {\n",
              "    /* Redefinition of color scheme for dark theme */\n",
              "    --sklearn-color-text-on-default-background: var(--sg-text-color, var(--theme-code-foreground, var(--jp-content-font-color1, white)));\n",
              "    --sklearn-color-background: var(--sg-background-color, var(--theme-background, var(--jp-layout-color0, #111)));\n",
              "    --sklearn-color-border-box: var(--sg-text-color, var(--theme-code-foreground, var(--jp-content-font-color1, white)));\n",
              "    --sklearn-color-icon: #878787;\n",
              "  }\n",
              "}\n",
              "\n",
              "#sk-container-id-1 {\n",
              "  color: var(--sklearn-color-text);\n",
              "}\n",
              "\n",
              "#sk-container-id-1 pre {\n",
              "  padding: 0;\n",
              "}\n",
              "\n",
              "#sk-container-id-1 input.sk-hidden--visually {\n",
              "  border: 0;\n",
              "  clip: rect(1px 1px 1px 1px);\n",
              "  clip: rect(1px, 1px, 1px, 1px);\n",
              "  height: 1px;\n",
              "  margin: -1px;\n",
              "  overflow: hidden;\n",
              "  padding: 0;\n",
              "  position: absolute;\n",
              "  width: 1px;\n",
              "}\n",
              "\n",
              "#sk-container-id-1 div.sk-dashed-wrapped {\n",
              "  border: 1px dashed var(--sklearn-color-line);\n",
              "  margin: 0 0.4em 0.5em 0.4em;\n",
              "  box-sizing: border-box;\n",
              "  padding-bottom: 0.4em;\n",
              "  background-color: var(--sklearn-color-background);\n",
              "}\n",
              "\n",
              "#sk-container-id-1 div.sk-container {\n",
              "  /* jupyter's `normalize.less` sets `[hidden] { display: none; }`\n",
              "     but bootstrap.min.css set `[hidden] { display: none !important; }`\n",
              "     so we also need the `!important` here to be able to override the\n",
              "     default hidden behavior on the sphinx rendered scikit-learn.org.\n",
              "     See: https://github.com/scikit-learn/scikit-learn/issues/21755 */\n",
              "  display: inline-block !important;\n",
              "  position: relative;\n",
              "}\n",
              "\n",
              "#sk-container-id-1 div.sk-text-repr-fallback {\n",
              "  display: none;\n",
              "}\n",
              "\n",
              "div.sk-parallel-item,\n",
              "div.sk-serial,\n",
              "div.sk-item {\n",
              "  /* draw centered vertical line to link estimators */\n",
              "  background-image: linear-gradient(var(--sklearn-color-text-on-default-background), var(--sklearn-color-text-on-default-background));\n",
              "  background-size: 2px 100%;\n",
              "  background-repeat: no-repeat;\n",
              "  background-position: center center;\n",
              "}\n",
              "\n",
              "/* Parallel-specific style estimator block */\n",
              "\n",
              "#sk-container-id-1 div.sk-parallel-item::after {\n",
              "  content: \"\";\n",
              "  width: 100%;\n",
              "  border-bottom: 2px solid var(--sklearn-color-text-on-default-background);\n",
              "  flex-grow: 1;\n",
              "}\n",
              "\n",
              "#sk-container-id-1 div.sk-parallel {\n",
              "  display: flex;\n",
              "  align-items: stretch;\n",
              "  justify-content: center;\n",
              "  background-color: var(--sklearn-color-background);\n",
              "  position: relative;\n",
              "}\n",
              "\n",
              "#sk-container-id-1 div.sk-parallel-item {\n",
              "  display: flex;\n",
              "  flex-direction: column;\n",
              "}\n",
              "\n",
              "#sk-container-id-1 div.sk-parallel-item:first-child::after {\n",
              "  align-self: flex-end;\n",
              "  width: 50%;\n",
              "}\n",
              "\n",
              "#sk-container-id-1 div.sk-parallel-item:last-child::after {\n",
              "  align-self: flex-start;\n",
              "  width: 50%;\n",
              "}\n",
              "\n",
              "#sk-container-id-1 div.sk-parallel-item:only-child::after {\n",
              "  width: 0;\n",
              "}\n",
              "\n",
              "/* Serial-specific style estimator block */\n",
              "\n",
              "#sk-container-id-1 div.sk-serial {\n",
              "  display: flex;\n",
              "  flex-direction: column;\n",
              "  align-items: center;\n",
              "  background-color: var(--sklearn-color-background);\n",
              "  padding-right: 1em;\n",
              "  padding-left: 1em;\n",
              "}\n",
              "\n",
              "\n",
              "/* Toggleable style: style used for estimator/Pipeline/ColumnTransformer box that is\n",
              "clickable and can be expanded/collapsed.\n",
              "- Pipeline and ColumnTransformer use this feature and define the default style\n",
              "- Estimators will overwrite some part of the style using the `sk-estimator` class\n",
              "*/\n",
              "\n",
              "/* Pipeline and ColumnTransformer style (default) */\n",
              "\n",
              "#sk-container-id-1 div.sk-toggleable {\n",
              "  /* Default theme specific background. It is overwritten whether we have a\n",
              "  specific estimator or a Pipeline/ColumnTransformer */\n",
              "  background-color: var(--sklearn-color-background);\n",
              "}\n",
              "\n",
              "/* Toggleable label */\n",
              "#sk-container-id-1 label.sk-toggleable__label {\n",
              "  cursor: pointer;\n",
              "  display: block;\n",
              "  width: 100%;\n",
              "  margin-bottom: 0;\n",
              "  padding: 0.5em;\n",
              "  box-sizing: border-box;\n",
              "  text-align: center;\n",
              "}\n",
              "\n",
              "#sk-container-id-1 label.sk-toggleable__label-arrow:before {\n",
              "  /* Arrow on the left of the label */\n",
              "  content: \"▸\";\n",
              "  float: left;\n",
              "  margin-right: 0.25em;\n",
              "  color: var(--sklearn-color-icon);\n",
              "}\n",
              "\n",
              "#sk-container-id-1 label.sk-toggleable__label-arrow:hover:before {\n",
              "  color: var(--sklearn-color-text);\n",
              "}\n",
              "\n",
              "/* Toggleable content - dropdown */\n",
              "\n",
              "#sk-container-id-1 div.sk-toggleable__content {\n",
              "  max-height: 0;\n",
              "  max-width: 0;\n",
              "  overflow: hidden;\n",
              "  text-align: left;\n",
              "  /* unfitted */\n",
              "  background-color: var(--sklearn-color-unfitted-level-0);\n",
              "}\n",
              "\n",
              "#sk-container-id-1 div.sk-toggleable__content.fitted {\n",
              "  /* fitted */\n",
              "  background-color: var(--sklearn-color-fitted-level-0);\n",
              "}\n",
              "\n",
              "#sk-container-id-1 div.sk-toggleable__content pre {\n",
              "  margin: 0.2em;\n",
              "  border-radius: 0.25em;\n",
              "  color: var(--sklearn-color-text);\n",
              "  /* unfitted */\n",
              "  background-color: var(--sklearn-color-unfitted-level-0);\n",
              "}\n",
              "\n",
              "#sk-container-id-1 div.sk-toggleable__content.fitted pre {\n",
              "  /* unfitted */\n",
              "  background-color: var(--sklearn-color-fitted-level-0);\n",
              "}\n",
              "\n",
              "#sk-container-id-1 input.sk-toggleable__control:checked~div.sk-toggleable__content {\n",
              "  /* Expand drop-down */\n",
              "  max-height: 200px;\n",
              "  max-width: 100%;\n",
              "  overflow: auto;\n",
              "}\n",
              "\n",
              "#sk-container-id-1 input.sk-toggleable__control:checked~label.sk-toggleable__label-arrow:before {\n",
              "  content: \"▾\";\n",
              "}\n",
              "\n",
              "/* Pipeline/ColumnTransformer-specific style */\n",
              "\n",
              "#sk-container-id-1 div.sk-label input.sk-toggleable__control:checked~label.sk-toggleable__label {\n",
              "  color: var(--sklearn-color-text);\n",
              "  background-color: var(--sklearn-color-unfitted-level-2);\n",
              "}\n",
              "\n",
              "#sk-container-id-1 div.sk-label.fitted input.sk-toggleable__control:checked~label.sk-toggleable__label {\n",
              "  background-color: var(--sklearn-color-fitted-level-2);\n",
              "}\n",
              "\n",
              "/* Estimator-specific style */\n",
              "\n",
              "/* Colorize estimator box */\n",
              "#sk-container-id-1 div.sk-estimator input.sk-toggleable__control:checked~label.sk-toggleable__label {\n",
              "  /* unfitted */\n",
              "  background-color: var(--sklearn-color-unfitted-level-2);\n",
              "}\n",
              "\n",
              "#sk-container-id-1 div.sk-estimator.fitted input.sk-toggleable__control:checked~label.sk-toggleable__label {\n",
              "  /* fitted */\n",
              "  background-color: var(--sklearn-color-fitted-level-2);\n",
              "}\n",
              "\n",
              "#sk-container-id-1 div.sk-label label.sk-toggleable__label,\n",
              "#sk-container-id-1 div.sk-label label {\n",
              "  /* The background is the default theme color */\n",
              "  color: var(--sklearn-color-text-on-default-background);\n",
              "}\n",
              "\n",
              "/* On hover, darken the color of the background */\n",
              "#sk-container-id-1 div.sk-label:hover label.sk-toggleable__label {\n",
              "  color: var(--sklearn-color-text);\n",
              "  background-color: var(--sklearn-color-unfitted-level-2);\n",
              "}\n",
              "\n",
              "/* Label box, darken color on hover, fitted */\n",
              "#sk-container-id-1 div.sk-label.fitted:hover label.sk-toggleable__label.fitted {\n",
              "  color: var(--sklearn-color-text);\n",
              "  background-color: var(--sklearn-color-fitted-level-2);\n",
              "}\n",
              "\n",
              "/* Estimator label */\n",
              "\n",
              "#sk-container-id-1 div.sk-label label {\n",
              "  font-family: monospace;\n",
              "  font-weight: bold;\n",
              "  display: inline-block;\n",
              "  line-height: 1.2em;\n",
              "}\n",
              "\n",
              "#sk-container-id-1 div.sk-label-container {\n",
              "  text-align: center;\n",
              "}\n",
              "\n",
              "/* Estimator-specific */\n",
              "#sk-container-id-1 div.sk-estimator {\n",
              "  font-family: monospace;\n",
              "  border: 1px dotted var(--sklearn-color-border-box);\n",
              "  border-radius: 0.25em;\n",
              "  box-sizing: border-box;\n",
              "  margin-bottom: 0.5em;\n",
              "  /* unfitted */\n",
              "  background-color: var(--sklearn-color-unfitted-level-0);\n",
              "}\n",
              "\n",
              "#sk-container-id-1 div.sk-estimator.fitted {\n",
              "  /* fitted */\n",
              "  background-color: var(--sklearn-color-fitted-level-0);\n",
              "}\n",
              "\n",
              "/* on hover */\n",
              "#sk-container-id-1 div.sk-estimator:hover {\n",
              "  /* unfitted */\n",
              "  background-color: var(--sklearn-color-unfitted-level-2);\n",
              "}\n",
              "\n",
              "#sk-container-id-1 div.sk-estimator.fitted:hover {\n",
              "  /* fitted */\n",
              "  background-color: var(--sklearn-color-fitted-level-2);\n",
              "}\n",
              "\n",
              "/* Specification for estimator info (e.g. \"i\" and \"?\") */\n",
              "\n",
              "/* Common style for \"i\" and \"?\" */\n",
              "\n",
              ".sk-estimator-doc-link,\n",
              "a:link.sk-estimator-doc-link,\n",
              "a:visited.sk-estimator-doc-link {\n",
              "  float: right;\n",
              "  font-size: smaller;\n",
              "  line-height: 1em;\n",
              "  font-family: monospace;\n",
              "  background-color: var(--sklearn-color-background);\n",
              "  border-radius: 1em;\n",
              "  height: 1em;\n",
              "  width: 1em;\n",
              "  text-decoration: none !important;\n",
              "  margin-left: 1ex;\n",
              "  /* unfitted */\n",
              "  border: var(--sklearn-color-unfitted-level-1) 1pt solid;\n",
              "  color: var(--sklearn-color-unfitted-level-1);\n",
              "}\n",
              "\n",
              ".sk-estimator-doc-link.fitted,\n",
              "a:link.sk-estimator-doc-link.fitted,\n",
              "a:visited.sk-estimator-doc-link.fitted {\n",
              "  /* fitted */\n",
              "  border: var(--sklearn-color-fitted-level-1) 1pt solid;\n",
              "  color: var(--sklearn-color-fitted-level-1);\n",
              "}\n",
              "\n",
              "/* On hover */\n",
              "div.sk-estimator:hover .sk-estimator-doc-link:hover,\n",
              ".sk-estimator-doc-link:hover,\n",
              "div.sk-label-container:hover .sk-estimator-doc-link:hover,\n",
              ".sk-estimator-doc-link:hover {\n",
              "  /* unfitted */\n",
              "  background-color: var(--sklearn-color-unfitted-level-3);\n",
              "  color: var(--sklearn-color-background);\n",
              "  text-decoration: none;\n",
              "}\n",
              "\n",
              "div.sk-estimator.fitted:hover .sk-estimator-doc-link.fitted:hover,\n",
              ".sk-estimator-doc-link.fitted:hover,\n",
              "div.sk-label-container:hover .sk-estimator-doc-link.fitted:hover,\n",
              ".sk-estimator-doc-link.fitted:hover {\n",
              "  /* fitted */\n",
              "  background-color: var(--sklearn-color-fitted-level-3);\n",
              "  color: var(--sklearn-color-background);\n",
              "  text-decoration: none;\n",
              "}\n",
              "\n",
              "/* Span, style for the box shown on hovering the info icon */\n",
              ".sk-estimator-doc-link span {\n",
              "  display: none;\n",
              "  z-index: 9999;\n",
              "  position: relative;\n",
              "  font-weight: normal;\n",
              "  right: .2ex;\n",
              "  padding: .5ex;\n",
              "  margin: .5ex;\n",
              "  width: min-content;\n",
              "  min-width: 20ex;\n",
              "  max-width: 50ex;\n",
              "  color: var(--sklearn-color-text);\n",
              "  box-shadow: 2pt 2pt 4pt #999;\n",
              "  /* unfitted */\n",
              "  background: var(--sklearn-color-unfitted-level-0);\n",
              "  border: .5pt solid var(--sklearn-color-unfitted-level-3);\n",
              "}\n",
              "\n",
              ".sk-estimator-doc-link.fitted span {\n",
              "  /* fitted */\n",
              "  background: var(--sklearn-color-fitted-level-0);\n",
              "  border: var(--sklearn-color-fitted-level-3);\n",
              "}\n",
              "\n",
              ".sk-estimator-doc-link:hover span {\n",
              "  display: block;\n",
              "}\n",
              "\n",
              "/* \"?\"-specific style due to the `<a>` HTML tag */\n",
              "\n",
              "#sk-container-id-1 a.estimator_doc_link {\n",
              "  float: right;\n",
              "  font-size: 1rem;\n",
              "  line-height: 1em;\n",
              "  font-family: monospace;\n",
              "  background-color: var(--sklearn-color-background);\n",
              "  border-radius: 1rem;\n",
              "  height: 1rem;\n",
              "  width: 1rem;\n",
              "  text-decoration: none;\n",
              "  /* unfitted */\n",
              "  color: var(--sklearn-color-unfitted-level-1);\n",
              "  border: var(--sklearn-color-unfitted-level-1) 1pt solid;\n",
              "}\n",
              "\n",
              "#sk-container-id-1 a.estimator_doc_link.fitted {\n",
              "  /* fitted */\n",
              "  border: var(--sklearn-color-fitted-level-1) 1pt solid;\n",
              "  color: var(--sklearn-color-fitted-level-1);\n",
              "}\n",
              "\n",
              "/* On hover */\n",
              "#sk-container-id-1 a.estimator_doc_link:hover {\n",
              "  /* unfitted */\n",
              "  background-color: var(--sklearn-color-unfitted-level-3);\n",
              "  color: var(--sklearn-color-background);\n",
              "  text-decoration: none;\n",
              "}\n",
              "\n",
              "#sk-container-id-1 a.estimator_doc_link.fitted:hover {\n",
              "  /* fitted */\n",
              "  background-color: var(--sklearn-color-fitted-level-3);\n",
              "}\n",
              "</style><div id=\"sk-container-id-1\" class=\"sk-top-container\"><div class=\"sk-text-repr-fallback\"><pre>LogisticRegression()</pre><b>In a Jupyter environment, please rerun this cell to show the HTML representation or trust the notebook. <br />On GitHub, the HTML representation is unable to render, please try loading this page with nbviewer.org.</b></div><div class=\"sk-container\" hidden><div class=\"sk-item\"><div class=\"sk-estimator fitted sk-toggleable\"><input class=\"sk-toggleable__control sk-hidden--visually\" id=\"sk-estimator-id-1\" type=\"checkbox\" checked><label for=\"sk-estimator-id-1\" class=\"sk-toggleable__label fitted sk-toggleable__label-arrow fitted\">&nbsp;&nbsp;LogisticRegression<a class=\"sk-estimator-doc-link fitted\" rel=\"noreferrer\" target=\"_blank\" href=\"https://scikit-learn.org/1.5/modules/generated/sklearn.linear_model.LogisticRegression.html\">?<span>Documentation for LogisticRegression</span></a><span class=\"sk-estimator-doc-link fitted\">i<span>Fitted</span></span></label><div class=\"sk-toggleable__content fitted\"><pre>LogisticRegression()</pre></div> </div></div></div></div>"
            ]
          },
          "metadata": {},
          "execution_count": 108
        }
      ],
      "source": [
        "# use TF-IDF to vectorize the training texts\n",
        "tfidf_vectorizer = TfidfVectorizer(stop_words='english', max_features=5000)\n",
        "\n",
        "X_train_tfidf = tfidf_vectorizer.fit_transform(X_train)\n",
        "X_val_tfidf = tfidf_vectorizer.transform(X_val)\n",
        "X_test_tfidf = tfidf_vectorizer.transform(X_test)\n",
        "\n",
        "logreg_model = LogisticRegression()\n",
        "logreg_model.fit(X_train_tfidf, y_train)"
      ]
    },
    {
      "cell_type": "code",
      "execution_count": null,
      "metadata": {
        "colab": {
          "base_uri": "https://localhost:8080/"
        },
        "id": "u2Fwu9GrzvVk",
        "outputId": "caf1662e-5865-459d-ce20-ec3e03c70c8e"
      },
      "outputs": [
        {
          "output_type": "stream",
          "name": "stdout",
          "text": [
            "                  precision    recall  f1-score   support\n",
            "\n",
            "           False       0.43      0.29      0.35       379\n",
            "  Partially True       0.41      0.46      0.43       485\n",
            "True/Mostly True       0.43      0.50      0.46       420\n",
            "\n",
            "        accuracy                           0.42      1284\n",
            "       macro avg       0.42      0.42      0.42      1284\n",
            "    weighted avg       0.42      0.42      0.42      1284\n",
            "\n"
          ]
        }
      ],
      "source": [
        "# evaluate on validation data\n",
        "y_val_pred = logreg_model.predict(X_val_tfidf)\n",
        "print(classification_report(y_val, y_val_pred))"
      ]
    },
    {
      "cell_type": "code",
      "execution_count": null,
      "metadata": {
        "colab": {
          "base_uri": "https://localhost:8080/"
        },
        "id": "E3jHfS1-zz-w",
        "outputId": "523fd00d-c397-4508-e2ec-44138595e03c"
      },
      "outputs": [
        {
          "output_type": "stream",
          "name": "stdout",
          "text": [
            "                  precision    recall  f1-score   support\n",
            "\n",
            "           False       0.40      0.30      0.34       341\n",
            "  Partially True       0.43      0.45      0.44       477\n",
            "True/Mostly True       0.44      0.50      0.47       449\n",
            "\n",
            "        accuracy                           0.43      1267\n",
            "       macro avg       0.42      0.42      0.42      1267\n",
            "    weighted avg       0.42      0.43      0.42      1267\n",
            "\n",
            "\n",
            "Confusion Matrix:\n",
            "[[103 125 113]\n",
            " [ 88 213 176]\n",
            " [ 68 157 224]]\n"
          ]
        }
      ],
      "source": [
        "# evaluate on test data\n",
        "y_test_pred = logreg_model.predict(X_test_tfidf)\n",
        "print(classification_report(y_test, y_test_pred))\n",
        "\n",
        "# look at confusion matrix\n",
        "cm = confusion_matrix(y_test, y_test_pred, labels=['False', 'Partially True', 'True/Mostly True'])\n",
        "print(cm)"
      ]
    },
    {
      "cell_type": "markdown",
      "metadata": {
        "id": "N1eUeMrp0GC0"
      },
      "source": [
        "We see roughly comprable performance across classes, with slightly better performance on the \"True/Mostly True\" category. Accuracy is pretty disappointing, but not inconsistent with what the original LIAR paper authors found in their modeling."
      ]
    },
    {
      "cell_type": "markdown",
      "metadata": {
        "id": "inzljIN91ed1"
      },
      "source": [
        "## LSTM\n",
        "\n",
        "We use the following link as a resource in assisting with the LSTM creation: https://nzlul.medium.com/the-classification-of-text-messages-using-lstm-bi-lstm-and-gru-f79b207f90ad"
      ]
    },
    {
      "cell_type": "code",
      "source": [
        "# first, get some statistics of the dataset\n",
        "for name, dataset in {'X_train': X_train, 'X_val': X_val, 'X_test': X_test}.items():\n",
        "    lengths = [len(i.split()) for i in dataset]\n",
        "    avg_length = sum(lengths) / len(dataset)\n",
        "    max_length = max(lengths)\n",
        "    percentile_length = np.percentile(lengths, 95)\n",
        "\n",
        "    print(f\"Average length of statement in {name}: {avg_length:.2f}\")\n",
        "    print(f\"Maximum length of statement in {name}: {max_length}\")\n",
        "    print(f\"95th Percentile Length of statements in {name}: {percentile_length:.2f}\")\n",
        "    print(\"\\n\")\n",
        "\n",
        "# given this, we can use 40 padding (account for 95th percentile )"
      ],
      "metadata": {
        "colab": {
          "base_uri": "https://localhost:8080/"
        },
        "id": "szcQRYAeiEHP",
        "outputId": "0ae85088-a397-45bb-9818-c3fa9f5742af"
      },
      "execution_count": null,
      "outputs": [
        {
          "output_type": "stream",
          "name": "stdout",
          "text": [
            "Average length of statement in X_train: 18.01\n",
            "Maximum length of statement in X_train: 467\n",
            "95th Percentile Length of statements in X_train: 33.00\n",
            "\n",
            "\n",
            "Average length of statement in X_val: 17.93\n",
            "Maximum length of statement in X_val: 57\n",
            "95th Percentile Length of statements in X_val: 32.00\n",
            "\n",
            "\n",
            "Average length of statement in X_test: 18.40\n",
            "Maximum length of statement in X_test: 431\n",
            "95th Percentile Length of statements in X_test: 32.00\n",
            "\n",
            "\n"
          ]
        }
      ]
    },
    {
      "cell_type": "code",
      "source": [
        "# do label encoding for the \"label\" outcome to have numerical values\n",
        "label_encoder = LabelEncoder()\n",
        "y_train_encoded = label_encoder.fit_transform(y_train)\n",
        "y_val_encoded = label_encoder.transform(y_val)\n",
        "y_test_encoded = label_encoder.transform(y_test)\n",
        "\n",
        "# tokenize texts\n",
        "# selected 5000 as recommended by resources online\n",
        "# fit tokenizer to training data\n",
        "tokenizer = Tokenizer(num_words=5000, oov_token=\"<UNK>\")\n",
        "tokenizer.fit_on_texts(X_train)\n",
        "\n",
        "# convert the texts to sequences for LSTM\n",
        "X_train_seq = tokenizer.texts_to_sequences(X_train)\n",
        "X_val_seq = tokenizer.texts_to_sequences(X_val)\n",
        "X_test_seq = tokenizer.texts_to_sequences(X_test)"
      ],
      "metadata": {
        "id": "B4loyA480ptt"
      },
      "execution_count": null,
      "outputs": []
    },
    {
      "cell_type": "code",
      "source": [
        "# set pad length to 40 because of the averages/percentiles observed previously\n",
        "# pre padding recommended for LSTMs\n",
        "X_train_pad = pad_sequences(X_train_seq, padding='pre', maxlen=40)\n",
        "X_val_pad = pad_sequences(X_val_seq, padding='pre', maxlen=40)\n",
        "X_test_pad = pad_sequences(X_test_seq, padding='pre', maxlen=40)\n",
        "\n",
        "print(X_train_pad.shape)\n",
        "print(X_val_pad.shape)\n",
        "print(X_test_pad.shape)\n"
      ],
      "metadata": {
        "colab": {
          "base_uri": "https://localhost:8080/"
        },
        "id": "aoHwm7Vu1BEn",
        "outputId": "eda763e4-3f88-4b04-8df8-fc437a7f71e3"
      },
      "execution_count": null,
      "outputs": [
        {
          "output_type": "stream",
          "name": "stdout",
          "text": [
            "(10240, 40)\n",
            "(1284, 40)\n",
            "(1267, 40)\n"
          ]
        }
      ]
    },
    {
      "cell_type": "markdown",
      "source": [
        "### Hyperparameter Tuning"
      ],
      "metadata": {
        "id": "M3P25yNwgsw7"
      }
    },
    {
      "cell_type": "code",
      "execution_count": null,
      "metadata": {
        "id": "7S2KvuqHe1MA"
      },
      "outputs": [],
      "source": [
        "# CHATGPT and https://nzlul.medium.com/the-classification-of-text-messages-using-lstm-bi-lstm-and-gru-f79b207f90ad\n",
        "# assisted in the HP tuning and the structure of the LSTM\n",
        "\n",
        "def build_model(hp):\n",
        "    model = Sequential()\n",
        "\n",
        "    # start with embedding layer\n",
        "    # we will fix output dimension to 100 as this is standard for embedding layers\n",
        "    model.add(Embedding(\n",
        "        input_dim=5000,\n",
        "        output_dim=100,\n",
        "        input_length=40\n",
        "    ))\n",
        "\n",
        "    # add LSTM layer\n",
        "    # HPs: # nunits, dropout probabilities\n",
        "    model.add(LSTM(\n",
        "        units=hp.Choice('lstm_units', [64, 128, 256]),\n",
        "        dropout=hp.Choice('dropout', [0.1, 0.2, 0.5]),\n",
        "        recurrent_dropout=hp.Choice('recurrent_dropout', [0.1, 0.2, 0.5])\n",
        "    ))\n",
        "\n",
        "    # add dense layer\n",
        "    # HPs: # unints\n",
        "    model.add(Dense(\n",
        "        units=hp.Choice('dense_units', [32, 64, 128]),\n",
        "        activation='relu'\n",
        "    ))\n",
        "\n",
        "    # add softmax activation for 3-class classification\n",
        "    model.add(Dense(3, activation='softmax'))\n",
        "\n",
        "    # log sample learning rate from 1e-4 to 1e-2\n",
        "    model.compile(\n",
        "        optimizer=Adam(hp.Float('learning_rate', 1e-4, 1e-2, sampling='log')),\n",
        "        loss='sparse_categorical_crossentropy',\n",
        "        metrics=['accuracy']\n",
        "    )\n",
        "    return model"
      ]
    },
    {
      "cell_type": "code",
      "source": [
        "# track performance on validation set\n",
        "# stick with accuracy as metric because of rough class balance\n",
        "# limit to 15 trials (takes very long otherwise)\n",
        "# 5 epochs\n",
        "# batch size 32\n",
        "\n",
        "# random search preferable to grid search\n",
        "tuner = kt.RandomSearch(\n",
        "    build_model,\n",
        "    objective ='val_accuracy',\n",
        "    max_trials = 15,\n",
        "    directory='LSTM',\n",
        "    project_name='HP_tuning',\n",
        "    seed = 230\n",
        ")\n",
        "\n",
        "tuner.search(X_train_pad, y_train_encoded,\n",
        "             validation_data=(X_val_pad, y_val_encoded), epochs=5,\n",
        "             batch_size=32)\n",
        "\n",
        "\n",
        "# best model resulting from HP tuning\n",
        "best_hps = tuner.get_best_hyperparameters(1)[0]\n",
        "best_model = tuner.hypermodel.build(best_hps)\n",
        "\n",
        "print(\"Best Hyperparameters:\")\n",
        "print(best_hps.values)"
      ],
      "metadata": {
        "colab": {
          "base_uri": "https://localhost:8080/"
        },
        "id": "jDsv3I4N1uSQ",
        "outputId": "b06d6bc4-6e60-4955-b218-e864c220f6c6"
      },
      "execution_count": null,
      "outputs": [
        {
          "output_type": "stream",
          "name": "stdout",
          "text": [
            "Reloading Tuner from LSTM/HP_tuning/tuner0.json\n",
            "Best Hyperparameters:\n",
            "{'lstm_units': 64, 'dropout': 0.2, 'recurrent_dropout': 0.1, 'dense_units': 64, 'learning_rate': 0.00011998472287810798}\n"
          ]
        }
      ]
    },
    {
      "cell_type": "code",
      "source": [
        "# train the model with the best parameters\n",
        "# include early stopping for training\n",
        "\n",
        "early_stopping = EarlyStopping(monitor='val_loss', patience=3, verbose=1, restore_best_weights=True)\n",
        "\n",
        "history = best_model.fit(\n",
        "    X_train_pad, y_train_encoded,\n",
        "    validation_data=(X_val_pad, y_val_encoded),\n",
        "    epochs=10,\n",
        "    batch_size=32,\n",
        "    callbacks=[early_stopping])"
      ],
      "metadata": {
        "colab": {
          "base_uri": "https://localhost:8080/"
        },
        "id": "wH8EIhK4A6SP",
        "outputId": "bf2c23f8-0e30-4539-dd7f-b4dabdf13f9b"
      },
      "execution_count": null,
      "outputs": [
        {
          "output_type": "stream",
          "name": "stdout",
          "text": [
            "Epoch 1/10\n",
            "\u001b[1m321/321\u001b[0m \u001b[32m━━━━━━━━━━━━━━━━━━━━\u001b[0m\u001b[37m\u001b[0m \u001b[1m44s\u001b[0m 116ms/step - accuracy: 0.3744 - loss: 1.0954 - val_accuracy: 0.3723 - val_loss: 1.0891\n",
            "Epoch 2/10\n",
            "\u001b[1m321/321\u001b[0m \u001b[32m━━━━━━━━━━━━━━━━━━━━\u001b[0m\u001b[37m\u001b[0m \u001b[1m28s\u001b[0m 88ms/step - accuracy: 0.4051 - loss: 1.0803 - val_accuracy: 0.4439 - val_loss: 1.0641\n",
            "Epoch 3/10\n",
            "\u001b[1m321/321\u001b[0m \u001b[32m━━━━━━━━━━━━━━━━━━━━\u001b[0m\u001b[37m\u001b[0m \u001b[1m52s\u001b[0m 163ms/step - accuracy: 0.4538 - loss: 1.0443 - val_accuracy: 0.4463 - val_loss: 1.0455\n",
            "Epoch 4/10\n",
            "\u001b[1m321/321\u001b[0m \u001b[32m━━━━━━━━━━━━━━━━━━━━\u001b[0m\u001b[37m\u001b[0m \u001b[1m57s\u001b[0m 84ms/step - accuracy: 0.5141 - loss: 0.9897 - val_accuracy: 0.4494 - val_loss: 1.0484\n",
            "Epoch 5/10\n",
            "\u001b[1m321/321\u001b[0m \u001b[32m━━━━━━━━━━━━━━━━━━━━\u001b[0m\u001b[37m\u001b[0m \u001b[1m62s\u001b[0m 149ms/step - accuracy: 0.5617 - loss: 0.9367 - val_accuracy: 0.4330 - val_loss: 1.0777\n",
            "Epoch 6/10\n",
            "\u001b[1m321/321\u001b[0m \u001b[32m━━━━━━━━━━━━━━━━━━━━\u001b[0m\u001b[37m\u001b[0m \u001b[1m48s\u001b[0m 149ms/step - accuracy: 0.5985 - loss: 0.8811 - val_accuracy: 0.4213 - val_loss: 1.1124\n",
            "Epoch 6: early stopping\n",
            "Restoring model weights from the end of the best epoch: 3.\n"
          ]
        }
      ]
    },
    {
      "cell_type": "code",
      "source": [
        "# test set performance\n",
        "test_loss, test_accuracy = best_model.evaluate(X_test_pad, y_test_encoded, verbose=1)\n",
        "\n",
        "# predictions on test set\n",
        "y_test_pred = best_model.predict(X_test_pad)\n",
        "y_test_pred = np.argmax(y_test_pred, axis=1)\n",
        "print(classification_report(y_test_encoded, y_test_pred, target_names=label_encoder.classes_))\n",
        "\n",
        "cm = confusion_matrix(y_test_encoded, y_test_pred)\n",
        "cm_df = pd.DataFrame(cm, index=label_encoder.classes_, columns=label_encoder.classes_)\n",
        "print(cm_df)\n"
      ],
      "metadata": {
        "colab": {
          "base_uri": "https://localhost:8080/"
        },
        "id": "9TUL1VPp6u1A",
        "outputId": "58c2bd50-88c8-4f2d-c210-32cd748beb6d"
      },
      "execution_count": null,
      "outputs": [
        {
          "output_type": "stream",
          "name": "stdout",
          "text": [
            "\u001b[1m40/40\u001b[0m \u001b[32m━━━━━━━━━━━━━━━━━━━━\u001b[0m\u001b[37m\u001b[0m \u001b[1m1s\u001b[0m 26ms/step - accuracy: 0.4203 - loss: 1.0577\n",
            "Test Loss: 1.0532\n",
            "Test Accuracy: 0.4396\n",
            "\u001b[1m40/40\u001b[0m \u001b[32m━━━━━━━━━━━━━━━━━━━━\u001b[0m\u001b[37m\u001b[0m \u001b[1m2s\u001b[0m 38ms/step\n",
            "                  precision    recall  f1-score   support\n",
            "\n",
            "           False       0.39      0.37      0.38       341\n",
            "  Partially True       0.44      0.38      0.41       477\n",
            "True/Mostly True       0.47      0.55      0.51       449\n",
            "\n",
            "        accuracy                           0.44      1267\n",
            "       macro avg       0.43      0.44      0.43      1267\n",
            "    weighted avg       0.44      0.44      0.44      1267\n",
            "\n",
            "\n",
            "Confusion Matrix:\n",
            "                  False  Partially True  True/Mostly True\n",
            "False               126             102               113\n",
            "Partially True      122             183               172\n",
            "True/Mostly True     73             128               248\n"
          ]
        }
      ]
    },
    {
      "cell_type": "markdown",
      "metadata": {
        "id": "k8maE99w306Q"
      },
      "source": [
        "### Use Data Augmentation within LSTM\n",
        "\n",
        "- Retrain the LSTM model with the augmented training data\n",
        "- Use the HPs selected from tuning on the original data\n"
      ]
    },
    {
      "cell_type": "code",
      "source": [
        "# now re-train with augmented data\n",
        "# need to re-pad the data\n",
        "# re-use the \"best\" hyperparameters (not ideal but saves time on HP tuning)\n",
        "# same code as above, just wit train_df_combined instead\n",
        "\n",
        "X_train_augmented = train_df_combined['statement']\n",
        "y_train_augmented = train_df_combined['grouped_label']\n",
        "\n",
        "# do label encoding for the \"label\" outcome to have numerical values\n",
        "label_encoder = LabelEncoder()\n",
        "y_train_encoded = label_encoder.fit_transform(y_train)\n",
        "y_val_encoded = label_encoder.transform(y_val)\n",
        "y_test_encoded = label_encoder.transform(y_test)\n",
        "\n",
        "# tokenize texts\n",
        "# selected 5000 as recommended by resources online\n",
        "# fit tokenizer to training data\n",
        "tokenizer = Tokenizer(num_words=5000, oov_token=\"<UNK>\")\n",
        "tokenizer.fit_on_texts(X_train)\n",
        "\n",
        "# convert the texts to sequences for LSTM\n",
        "X_train_seq = tokenizer.texts_to_sequences(X_train)\n",
        "X_val_seq = tokenizer.texts_to_sequences(X_val)\n",
        "X_test_seq = tokenizer.texts_to_sequences(X_test)"
      ],
      "metadata": {
        "id": "D3WR_bM5Cd-b"
      },
      "execution_count": null,
      "outputs": []
    },
    {
      "cell_type": "code",
      "execution_count": null,
      "metadata": {
        "id": "rxdRPPYFou1K",
        "colab": {
          "base_uri": "https://localhost:8080/"
        },
        "outputId": "c2410571-c438-48ab-84f6-e216dc682d55"
      },
      "outputs": [
        {
          "output_type": "stream",
          "name": "stdout",
          "text": [
            "(10240, 40)\n",
            "(1284, 40)\n",
            "(1267, 40)\n"
          ]
        }
      ],
      "source": [
        "# set pad length to 40 because of the averages/percentiles observed previously\n",
        "# pre padding recommended for LSTMs\n",
        "X_train_pad = pad_sequences(X_train_seq, padding='pre', maxlen=40)\n",
        "X_val_pad = pad_sequences(X_val_seq, padding='pre', maxlen=40)\n",
        "X_test_pad = pad_sequences(X_test_seq, padding='pre', maxlen=40)\n",
        "\n",
        "print(X_train_pad.shape)\n",
        "print(X_val_pad.shape)\n",
        "print(X_test_pad.shape)"
      ]
    },
    {
      "cell_type": "code",
      "execution_count": null,
      "metadata": {
        "id": "1v2lv1l67B9w",
        "colab": {
          "base_uri": "https://localhost:8080/",
          "height": 517
        },
        "outputId": "9316c0bc-45ef-44ee-fad2-6013f6aa0e81"
      },
      "outputs": [
        {
          "output_type": "stream",
          "name": "stderr",
          "text": [
            "/usr/local/lib/python3.10/dist-packages/keras/src/layers/core/embedding.py:90: UserWarning: Argument `input_length` is deprecated. Just remove it.\n",
            "  warnings.warn(\n"
          ]
        },
        {
          "output_type": "display_data",
          "data": {
            "text/plain": [
              "\u001b[1mModel: \"sequential_5\"\u001b[0m\n"
            ],
            "text/html": [
              "<pre style=\"white-space:pre;overflow-x:auto;line-height:normal;font-family:Menlo,'DejaVu Sans Mono',consolas,'Courier New',monospace\"><span style=\"font-weight: bold\">Model: \"sequential_5\"</span>\n",
              "</pre>\n"
            ]
          },
          "metadata": {}
        },
        {
          "output_type": "display_data",
          "data": {
            "text/plain": [
              "┏━━━━━━━━━━━━━━━━━━━━━━━━━━━━━━━━━━━━━━┳━━━━━━━━━━━━━━━━━━━━━━━━━━━━━┳━━━━━━━━━━━━━━━━━┓\n",
              "┃\u001b[1m \u001b[0m\u001b[1mLayer (type)                        \u001b[0m\u001b[1m \u001b[0m┃\u001b[1m \u001b[0m\u001b[1mOutput Shape               \u001b[0m\u001b[1m \u001b[0m┃\u001b[1m \u001b[0m\u001b[1m        Param #\u001b[0m\u001b[1m \u001b[0m┃\n",
              "┡━━━━━━━━━━━━━━━━━━━━━━━━━━━━━━━━━━━━━━╇━━━━━━━━━━━━━━━━━━━━━━━━━━━━━╇━━━━━━━━━━━━━━━━━┩\n",
              "│ embedding_5 (\u001b[38;5;33mEmbedding\u001b[0m)              │ ?                           │     \u001b[38;5;34m0\u001b[0m (unbuilt) │\n",
              "├──────────────────────────────────────┼─────────────────────────────┼─────────────────┤\n",
              "│ lstm_5 (\u001b[38;5;33mLSTM\u001b[0m)                        │ ?                           │     \u001b[38;5;34m0\u001b[0m (unbuilt) │\n",
              "├──────────────────────────────────────┼─────────────────────────────┼─────────────────┤\n",
              "│ dense_10 (\u001b[38;5;33mDense\u001b[0m)                     │ ?                           │     \u001b[38;5;34m0\u001b[0m (unbuilt) │\n",
              "├──────────────────────────────────────┼─────────────────────────────┼─────────────────┤\n",
              "│ dense_11 (\u001b[38;5;33mDense\u001b[0m)                     │ ?                           │     \u001b[38;5;34m0\u001b[0m (unbuilt) │\n",
              "└──────────────────────────────────────┴─────────────────────────────┴─────────────────┘\n"
            ],
            "text/html": [
              "<pre style=\"white-space:pre;overflow-x:auto;line-height:normal;font-family:Menlo,'DejaVu Sans Mono',consolas,'Courier New',monospace\">┏━━━━━━━━━━━━━━━━━━━━━━━━━━━━━━━━━━━━━━┳━━━━━━━━━━━━━━━━━━━━━━━━━━━━━┳━━━━━━━━━━━━━━━━━┓\n",
              "┃<span style=\"font-weight: bold\"> Layer (type)                         </span>┃<span style=\"font-weight: bold\"> Output Shape                </span>┃<span style=\"font-weight: bold\">         Param # </span>┃\n",
              "┡━━━━━━━━━━━━━━━━━━━━━━━━━━━━━━━━━━━━━━╇━━━━━━━━━━━━━━━━━━━━━━━━━━━━━╇━━━━━━━━━━━━━━━━━┩\n",
              "│ embedding_5 (<span style=\"color: #0087ff; text-decoration-color: #0087ff\">Embedding</span>)              │ ?                           │     <span style=\"color: #00af00; text-decoration-color: #00af00\">0</span> (unbuilt) │\n",
              "├──────────────────────────────────────┼─────────────────────────────┼─────────────────┤\n",
              "│ lstm_5 (<span style=\"color: #0087ff; text-decoration-color: #0087ff\">LSTM</span>)                        │ ?                           │     <span style=\"color: #00af00; text-decoration-color: #00af00\">0</span> (unbuilt) │\n",
              "├──────────────────────────────────────┼─────────────────────────────┼─────────────────┤\n",
              "│ dense_10 (<span style=\"color: #0087ff; text-decoration-color: #0087ff\">Dense</span>)                     │ ?                           │     <span style=\"color: #00af00; text-decoration-color: #00af00\">0</span> (unbuilt) │\n",
              "├──────────────────────────────────────┼─────────────────────────────┼─────────────────┤\n",
              "│ dense_11 (<span style=\"color: #0087ff; text-decoration-color: #0087ff\">Dense</span>)                     │ ?                           │     <span style=\"color: #00af00; text-decoration-color: #00af00\">0</span> (unbuilt) │\n",
              "└──────────────────────────────────────┴─────────────────────────────┴─────────────────┘\n",
              "</pre>\n"
            ]
          },
          "metadata": {}
        },
        {
          "output_type": "display_data",
          "data": {
            "text/plain": [
              "\u001b[1m Total params: \u001b[0m\u001b[38;5;34m0\u001b[0m (0.00 B)\n"
            ],
            "text/html": [
              "<pre style=\"white-space:pre;overflow-x:auto;line-height:normal;font-family:Menlo,'DejaVu Sans Mono',consolas,'Courier New',monospace\"><span style=\"font-weight: bold\"> Total params: </span><span style=\"color: #00af00; text-decoration-color: #00af00\">0</span> (0.00 B)\n",
              "</pre>\n"
            ]
          },
          "metadata": {}
        },
        {
          "output_type": "display_data",
          "data": {
            "text/plain": [
              "\u001b[1m Trainable params: \u001b[0m\u001b[38;5;34m0\u001b[0m (0.00 B)\n"
            ],
            "text/html": [
              "<pre style=\"white-space:pre;overflow-x:auto;line-height:normal;font-family:Menlo,'DejaVu Sans Mono',consolas,'Courier New',monospace\"><span style=\"font-weight: bold\"> Trainable params: </span><span style=\"color: #00af00; text-decoration-color: #00af00\">0</span> (0.00 B)\n",
              "</pre>\n"
            ]
          },
          "metadata": {}
        },
        {
          "output_type": "display_data",
          "data": {
            "text/plain": [
              "\u001b[1m Non-trainable params: \u001b[0m\u001b[38;5;34m0\u001b[0m (0.00 B)\n"
            ],
            "text/html": [
              "<pre style=\"white-space:pre;overflow-x:auto;line-height:normal;font-family:Menlo,'DejaVu Sans Mono',consolas,'Courier New',monospace\"><span style=\"font-weight: bold\"> Non-trainable params: </span><span style=\"color: #00af00; text-decoration-color: #00af00\">0</span> (0.00 B)\n",
              "</pre>\n"
            ]
          },
          "metadata": {}
        },
        {
          "output_type": "stream",
          "name": "stdout",
          "text": [
            "Epoch 1/5\n",
            "\u001b[1m320/320\u001b[0m \u001b[32m━━━━━━━━━━━━━━━━━━━━\u001b[0m\u001b[37m\u001b[0m \u001b[1m35s\u001b[0m 102ms/step - accuracy: 0.3713 - loss: 1.0948 - val_accuracy: 0.3964 - val_loss: 1.0844\n",
            "Epoch 2/5\n",
            "\u001b[1m320/320\u001b[0m \u001b[32m━━━━━━━━━━━━━━━━━━━━\u001b[0m\u001b[37m\u001b[0m \u001b[1m44s\u001b[0m 111ms/step - accuracy: 0.4051 - loss: 1.0772 - val_accuracy: 0.4400 - val_loss: 1.0593\n",
            "Epoch 3/5\n",
            "\u001b[1m320/320\u001b[0m \u001b[32m━━━━━━━━━━━━━━━━━━━━\u001b[0m\u001b[37m\u001b[0m \u001b[1m40s\u001b[0m 107ms/step - accuracy: 0.4600 - loss: 1.0421 - val_accuracy: 0.4470 - val_loss: 1.0450\n",
            "Epoch 4/5\n",
            "\u001b[1m320/320\u001b[0m \u001b[32m━━━━━━━━━━━━━━━━━━━━\u001b[0m\u001b[37m\u001b[0m \u001b[1m39s\u001b[0m 121ms/step - accuracy: 0.5188 - loss: 0.9817 - val_accuracy: 0.4315 - val_loss: 1.0649\n",
            "Epoch 5/5\n",
            "\u001b[1m320/320\u001b[0m \u001b[32m━━━━━━━━━━━━━━━━━━━━\u001b[0m\u001b[37m\u001b[0m \u001b[1m31s\u001b[0m 89ms/step - accuracy: 0.5664 - loss: 0.9248 - val_accuracy: 0.4291 - val_loss: 1.1028\n",
            "Restoring model weights from the end of the best epoch: 3.\n"
          ]
        }
      ],
      "source": [
        "# use HPs from \"best\" model\n",
        "# ideally we will do HP tuning again, but might be time consuming\n",
        "# {'lstm_units': 64, 'dropout': 0.2, 'recurrent_dropout': 0.1, 'dense_units': 64, 'learning_rate': 0.00011998472287810798}\n",
        "# we can still use early stopping\n",
        "# still 5 epochs, batch size 32\n",
        "\n",
        "model = Sequential()\n",
        "model.add(Embedding(input_dim=5000, output_dim=100, input_length=40))\n",
        "model.add(LSTM(64, dropout=0.2, recurrent_dropout=0.1))\n",
        "model.add(Dense(64, activation='relu'))\n",
        "model.add(Dense(3, activation='softmax'))\n",
        "model.compile(loss='sparse_categorical_crossentropy',\n",
        "              optimizer=Adam(learning_rate=0.00011998472287810798),\n",
        "              metrics=['accuracy'])\n",
        "model.summary()\n",
        "history = model.fit(X_train_pad, y_train_encoded,\n",
        "                    epochs=5,\n",
        "                    batch_size=32,\n",
        "                    validation_data=(X_val_pad, y_val_encoded),\n",
        "                     callbacks=[early_stopping])\n"
      ]
    },
    {
      "cell_type": "code",
      "execution_count": null,
      "metadata": {
        "id": "N9BZe-q5-yJG",
        "colab": {
          "base_uri": "https://localhost:8080/"
        },
        "outputId": "dbb60eed-1226-4f6a-8a82-9ffa7ad8441e"
      },
      "outputs": [
        {
          "output_type": "stream",
          "name": "stdout",
          "text": [
            "\u001b[1m40/40\u001b[0m \u001b[32m━━━━━━━━━━━━━━━━━━━━\u001b[0m\u001b[37m\u001b[0m \u001b[1m2s\u001b[0m 53ms/step - accuracy: 0.4049 - loss: 1.0647\n",
            "Test Loss: 1.0602\n",
            "Test Accuracy: 0.4254\n",
            "\u001b[1m40/40\u001b[0m \u001b[32m━━━━━━━━━━━━━━━━━━━━\u001b[0m\u001b[37m\u001b[0m \u001b[1m3s\u001b[0m 48ms/step\n",
            "                  precision    recall  f1-score   support\n",
            "\n",
            "           False       0.38      0.43      0.40       341\n",
            "  Partially True       0.40      0.39      0.40       477\n",
            "True/Mostly True       0.50      0.45      0.48       449\n",
            "\n",
            "        accuracy                           0.43      1267\n",
            "       macro avg       0.43      0.43      0.43      1267\n",
            "    weighted avg       0.43      0.43      0.43      1267\n",
            "\n",
            "\n",
            "Confusion Matrix:\n",
            "                  False  Partially True  True/Mostly True\n",
            "False               147             129                65\n",
            "Partially True      151             188               138\n",
            "True/Mostly True     93             152               204\n"
          ]
        }
      ],
      "source": [
        "# test set performance\n",
        "test_loss, test_accuracy = model.evaluate(X_test_pad, y_test_encoded, verbose=1)\n",
        "\n",
        "# predictions on test set\n",
        "y_test_pred = model.predict(X_test_pad)\n",
        "y_test_pred = np.argmax(y_test_pred, axis=1)\n",
        "print(classification_report(y_test_encoded, y_test_pred, target_names=label_encoder.classes_))\n",
        "\n",
        "cm = confusion_matrix(y_test_encoded, y_test_pred)\n",
        "cm_df = pd.DataFrame(cm, index=label_encoder.classes_, columns=label_encoder.classes_)\n",
        "print(cm_df)\n"
      ]
    },
    {
      "cell_type": "markdown",
      "metadata": {
        "id": "JFMae3QsovEt"
      },
      "source": [
        "## Contrastive Learning\n",
        "\n",
        "- We can create an embedding model by feeding in \"positive\" and \"negative\" pairs of statements, and train the model to distinguish pairs of statements.\n",
        "- Once we have embedding model, we can use logistic regression trained on embeddings to predict truth label\n",
        "- We will use DistilBert for embedding\n",
        "- We adopt a siamese architecture\n",
        "- Resource: https://www.google.com/url?q=https%3A%2F%2Fmedium.com%2F%40heyamit10%2Fcontrastive-learning-of-sentence-embeddings-from-scratch-33146cd756b9 assisted with siamese architecture\n"
      ]
    },
    {
      "cell_type": "code",
      "source": [
        "# we will use distilbert as it is smaller/quicker\n",
        "distilbert_model = DistilBertModel.from_pretrained('distilbert-base-uncased')\n",
        "tokenizer = DistilBertTokenizer.from_pretrained('distilbert-base-uncased')\n"
      ],
      "metadata": {
        "id": "QLsIDoruN3OP"
      },
      "execution_count": null,
      "outputs": []
    },
    {
      "cell_type": "code",
      "source": [
        "# siamese BERT model:\n",
        "# RESOURCE: https://www.google.com/url?q=https%3A%2F%2Fmedium.com%2F%40heyamit10%2Fcontrastive-learning-of-sentence-embeddings-from-scratch-33146cd756b9\n",
        "class SiameseDistilBERT(nn.Module):\n",
        "    def __init__(self, model):\n",
        "        super(SiameseDistilBERT, self).__init__()\n",
        "        self.distilbert = model\n",
        "\n",
        "    def forward(self, input_ids, attention_mask):\n",
        "        outputs = self.distilbert(input_ids=input_ids, attention_mask=attention_mask)\n",
        "        # CLS token is the embedding that we want\n",
        "        cls_output = outputs.last_hidden_state[:, 0, :]\n",
        "        return cls_output"
      ],
      "metadata": {
        "id": "yyqftdMCRR1d"
      },
      "execution_count": null,
      "outputs": []
    },
    {
      "cell_type": "code",
      "source": [
        "# custom dataset class for sentence pairs\n",
        "# can pass this into the SiameseDistilBERT\n",
        "# CHATGPT assisted with the creation of this class\n",
        "\n",
        "class ContrastivePairs(Dataset):\n",
        "    def __init__(self, sentence1_list, sentence2_list, labels, tokenizer, max_length=128):\n",
        "        self.sentence1_list = sentence1_list\n",
        "        self.sentence2_list = sentence2_list\n",
        "        self.labels = labels\n",
        "        self.tokenizer = tokenizer\n",
        "        self.max_length = max_length\n",
        "\n",
        "    def __len__(self):\n",
        "        return len(self.sentence1_list)\n",
        "\n",
        "    def __getitem__(self, idx):\n",
        "        sentence1 = self.sentence1_list[idx]\n",
        "        sentence2 = self.sentence2_list[idx]\n",
        "        label = self.labels[idx]\n",
        "\n",
        "        # tokenize the input sentences\n",
        "        encoding1 = self.tokenizer(sentence1, return_tensors='pt', padding='max_length', truncation=True, max_length=self.max_length)\n",
        "        encoding2 = self.tokenizer(sentence2, return_tensors='pt', padding='max_length', truncation=True, max_length=self.max_length)\n",
        "\n",
        "        # get dimensions correct\n",
        "        input_ids1 = encoding1['input_ids'].squeeze(0)\n",
        "        attention_mask1 = encoding1['attention_mask'].squeeze(0)\n",
        "        input_ids2 = encoding2['input_ids'].squeeze(0)\n",
        "        attention_mask2 = encoding2['attention_mask'].squeeze(0)\n",
        "\n",
        "        return input_ids1, attention_mask1, input_ids2, attention_mask2, torch.tensor(label, dtype=torch.float32)\n"
      ],
      "metadata": {
        "id": "hfJXTqviRSNQ"
      },
      "execution_count": null,
      "outputs": []
    },
    {
      "cell_type": "code",
      "source": [
        "# CHATGPT assisted with the creation of these functions\n",
        "\n",
        "# this function is used to get the embeddings of a new sentence (val/test set)\n",
        "def get_sentence_embedding(model, tokenizer, sentence, device, max_length=128):\n",
        "    model.eval()\n",
        "    with torch.no_grad():\n",
        "        # tokenize and encode the sentence to be embedded\n",
        "        encoding = tokenizer(sentence, return_tensors='pt', padding='max_length', truncation=True, max_length=max_length)\n",
        "\n",
        "        input_ids = encoding['input_ids'].to(device)\n",
        "        attention_mask = encoding['attention_mask'].to(device)\n",
        "\n",
        "        # get embeddings from the model (clf token)\n",
        "        output = model(input_ids, attention_mask=attention_mask)\n",
        "        return output.cpu().numpy()\n",
        "\n",
        "# loop through sentences and get embeddings for all-- stack together into one dataset\n",
        "def get_sentence_embeddings(model, tokenizer, sentences, device, max_length=128):\n",
        "    embeddings = []\n",
        "    for sentence in sentences:\n",
        "        embedding = get_sentence_embedding(model, tokenizer, sentence, device, max_length)\n",
        "        embeddings.append(embedding)\n",
        "    return np.vstack(embeddings)"
      ],
      "metadata": {
        "id": "viL-lNa4Y3qQ"
      },
      "execution_count": null,
      "outputs": []
    },
    {
      "cell_type": "markdown",
      "source": [
        "### Approach 1: Self-Supervised Labels\n",
        "- We can use augmented data to create positive and negative pairs\n",
        "- Positive: (original, augmented version)\n",
        "- Negative: (original, unrelated sentence)\n",
        "\n"
      ],
      "metadata": {
        "id": "D2BMr6w3N5ia"
      }
    },
    {
      "cell_type": "code",
      "execution_count": null,
      "metadata": {
        "id": "TIzq4d-KNfzf"
      },
      "outputs": [],
      "source": [
        "positive_pairs = []\n",
        "\n",
        "# id uniquely identifies the statement (and all augmented versions)\n",
        "for statement_id, group in train_df_combined.groupby('ID'):\n",
        "    original_row = group[group['augmentation_type'] == 'original']\n",
        "    original_statement = original_row['statement'].values[0]\n",
        "\n",
        "    # iterate through original and all 4 augmented versions\n",
        "    for row in group.iterrows():\n",
        "        # add \"positive pair\" (original, augmented) with label 1\n",
        "        if row[1]['augmentation_type'] != 'original':\n",
        "                positive_pairs.append({\n",
        "                    'sentence1': original_statement,\n",
        "                    'sentence2': row[1]['statement'],\n",
        "                    'label': 1\n",
        "                })\n",
        "                #print(\"appended\")\n",
        "\n",
        "negative_pairs = []\n",
        "for statement_id, group in train_df_combined.groupby('ID'):\n",
        "    original_row = group[group['augmentation_type'] == 'original']\n",
        "    original_statement = original_row['statement'].values[0]\n",
        "\n",
        "    # randomly sample one instance from the rest of the df\n",
        "    negative_sample = train_df_combined[train_df_combined['ID'] != statement_id].sample(1)\n",
        "    # add \"negative pair\" (original, random) with label 0\n",
        "    negative_pairs.append({\n",
        "                'sentence1': original_statement,\n",
        "                'sentence2': negative_sample['statement'].values[0],\n",
        "                'label': 0  # Label 0 for negative pairs\n",
        "            })\n",
        "\n",
        "contrastive_pairs = positive_pairs + negative_pairs\n",
        "contrastive_pairs_df = pd.DataFrame(contrastive_pairs)"
      ]
    },
    {
      "cell_type": "code",
      "source": [
        "# balance the dataframe between positive and negative samples\n",
        "# currently way too positive heavy\n",
        "# downsample the positive class by having one positive pair per original statement\n",
        "\n",
        "len(contrastive_pairs_df)\n",
        "print(sum(contrastive_pairs_df['label'])/len(contrastive_pairs_df))\n",
        "\n",
        "pos_df = contrastive_pairs_df[contrastive_pairs_df['label'] == 1]\n",
        "neg_df = contrastive_pairs_df[contrastive_pairs_df['label'] == 0]\n",
        "\n",
        "pos_df_downsampled = (\n",
        "    pos_df.groupby('sentence1').apply(lambda group: group.sample(n=1, random_state=230))\n",
        "      .reset_index(drop=True)\n",
        ")\n",
        "contrastive_balanced_df = pd.concat([pos_df_downsampled, neg_df]).sample(frac=1, random_state=230)\n",
        "print(sum(contrastive_balanced_df['label'])/len(contrastive_balanced_df))\n",
        "\n"
      ],
      "metadata": {
        "colab": {
          "base_uri": "https://localhost:8080/"
        },
        "id": "BIFSCPWKuMCG",
        "outputId": "b79fb1ec-92b4-472f-eb48-481131cafd94"
      },
      "execution_count": null,
      "outputs": [
        {
          "output_type": "stream",
          "name": "stdout",
          "text": [
            "0.7904344800769498\n",
            "0.48490945674044267\n"
          ]
        },
        {
          "output_type": "stream",
          "name": "stderr",
          "text": [
            "<ipython-input-188-8110dbc69721>:13: DeprecationWarning: DataFrameGroupBy.apply operated on the grouping columns. This behavior is deprecated, and in a future version of pandas the grouping columns will be excluded from the operation. Either pass `include_groups=False` to exclude the groupings or explicitly select the grouping columns after groupby to silence this warning.\n",
            "  .apply(lambda group: group.sample(n=1, random_state=230))\n"
          ]
        }
      ]
    },
    {
      "cell_type": "code",
      "source": [
        "contrastive_balanced_df.head()"
      ],
      "metadata": {
        "colab": {
          "base_uri": "https://localhost:8080/",
          "height": 293
        },
        "id": "bZufEgB7tknB",
        "outputId": "e1a3fb3c-1801-4aad-d9e8-4498018a841b"
      },
      "execution_count": null,
      "outputs": [
        {
          "output_type": "execute_result",
          "data": {
            "text/plain": [
              "                                               sentence1  \\\n",
              "42610  We now have our kids go to school about a mont...   \n",
              "45852  The new 21st State Senate district was created...   \n",
              "47349  According to a recent Congressional Budget Off...   \n",
              "5781   Says Wisconsin state Sen. Randy Hopper, R-Fond...   \n",
              "44154  Says the states pension and health benefits re...   \n",
              "\n",
              "                                               sentence2  label  \n",
              "42610    Trump Says Paul Ryan is still endorsing Trump .      0  \n",
              "45852  same Says John Boehner admits we are not going...      0  \n",
              "47349  Says his , former Gov . Linwood Holton , integ...      0  \n",
              "5781   Says Sen. Randy Hopper , R-Fond Lac has alread...      1  \n",
              "44154  A hundred percent of all the jobs lost during ...      0  "
            ],
            "text/html": [
              "\n",
              "  <div id=\"df-ae6796d8-a5a7-480f-934d-99a7ab046b2d\" class=\"colab-df-container\">\n",
              "    <div>\n",
              "<style scoped>\n",
              "    .dataframe tbody tr th:only-of-type {\n",
              "        vertical-align: middle;\n",
              "    }\n",
              "\n",
              "    .dataframe tbody tr th {\n",
              "        vertical-align: top;\n",
              "    }\n",
              "\n",
              "    .dataframe thead th {\n",
              "        text-align: right;\n",
              "    }\n",
              "</style>\n",
              "<table border=\"1\" class=\"dataframe\">\n",
              "  <thead>\n",
              "    <tr style=\"text-align: right;\">\n",
              "      <th></th>\n",
              "      <th>sentence1</th>\n",
              "      <th>sentence2</th>\n",
              "      <th>label</th>\n",
              "    </tr>\n",
              "  </thead>\n",
              "  <tbody>\n",
              "    <tr>\n",
              "      <th>42610</th>\n",
              "      <td>We now have our kids go to school about a mont...</td>\n",
              "      <td>Trump Says Paul Ryan is still endorsing Trump .</td>\n",
              "      <td>0</td>\n",
              "    </tr>\n",
              "    <tr>\n",
              "      <th>45852</th>\n",
              "      <td>The new 21st State Senate district was created...</td>\n",
              "      <td>same Says John Boehner admits we are not going...</td>\n",
              "      <td>0</td>\n",
              "    </tr>\n",
              "    <tr>\n",
              "      <th>47349</th>\n",
              "      <td>According to a recent Congressional Budget Off...</td>\n",
              "      <td>Says his , former Gov . Linwood Holton , integ...</td>\n",
              "      <td>0</td>\n",
              "    </tr>\n",
              "    <tr>\n",
              "      <th>5781</th>\n",
              "      <td>Says Wisconsin state Sen. Randy Hopper, R-Fond...</td>\n",
              "      <td>Says Sen. Randy Hopper , R-Fond Lac has alread...</td>\n",
              "      <td>1</td>\n",
              "    </tr>\n",
              "    <tr>\n",
              "      <th>44154</th>\n",
              "      <td>Says the states pension and health benefits re...</td>\n",
              "      <td>A hundred percent of all the jobs lost during ...</td>\n",
              "      <td>0</td>\n",
              "    </tr>\n",
              "  </tbody>\n",
              "</table>\n",
              "</div>\n",
              "    <div class=\"colab-df-buttons\">\n",
              "\n",
              "  <div class=\"colab-df-container\">\n",
              "    <button class=\"colab-df-convert\" onclick=\"convertToInteractive('df-ae6796d8-a5a7-480f-934d-99a7ab046b2d')\"\n",
              "            title=\"Convert this dataframe to an interactive table.\"\n",
              "            style=\"display:none;\">\n",
              "\n",
              "  <svg xmlns=\"http://www.w3.org/2000/svg\" height=\"24px\" viewBox=\"0 -960 960 960\">\n",
              "    <path d=\"M120-120v-720h720v720H120Zm60-500h600v-160H180v160Zm220 220h160v-160H400v160Zm0 220h160v-160H400v160ZM180-400h160v-160H180v160Zm440 0h160v-160H620v160ZM180-180h160v-160H180v160Zm440 0h160v-160H620v160Z\"/>\n",
              "  </svg>\n",
              "    </button>\n",
              "\n",
              "  <style>\n",
              "    .colab-df-container {\n",
              "      display:flex;\n",
              "      gap: 12px;\n",
              "    }\n",
              "\n",
              "    .colab-df-convert {\n",
              "      background-color: #E8F0FE;\n",
              "      border: none;\n",
              "      border-radius: 50%;\n",
              "      cursor: pointer;\n",
              "      display: none;\n",
              "      fill: #1967D2;\n",
              "      height: 32px;\n",
              "      padding: 0 0 0 0;\n",
              "      width: 32px;\n",
              "    }\n",
              "\n",
              "    .colab-df-convert:hover {\n",
              "      background-color: #E2EBFA;\n",
              "      box-shadow: 0px 1px 2px rgba(60, 64, 67, 0.3), 0px 1px 3px 1px rgba(60, 64, 67, 0.15);\n",
              "      fill: #174EA6;\n",
              "    }\n",
              "\n",
              "    .colab-df-buttons div {\n",
              "      margin-bottom: 4px;\n",
              "    }\n",
              "\n",
              "    [theme=dark] .colab-df-convert {\n",
              "      background-color: #3B4455;\n",
              "      fill: #D2E3FC;\n",
              "    }\n",
              "\n",
              "    [theme=dark] .colab-df-convert:hover {\n",
              "      background-color: #434B5C;\n",
              "      box-shadow: 0px 1px 3px 1px rgba(0, 0, 0, 0.15);\n",
              "      filter: drop-shadow(0px 1px 2px rgba(0, 0, 0, 0.3));\n",
              "      fill: #FFFFFF;\n",
              "    }\n",
              "  </style>\n",
              "\n",
              "    <script>\n",
              "      const buttonEl =\n",
              "        document.querySelector('#df-ae6796d8-a5a7-480f-934d-99a7ab046b2d button.colab-df-convert');\n",
              "      buttonEl.style.display =\n",
              "        google.colab.kernel.accessAllowed ? 'block' : 'none';\n",
              "\n",
              "      async function convertToInteractive(key) {\n",
              "        const element = document.querySelector('#df-ae6796d8-a5a7-480f-934d-99a7ab046b2d');\n",
              "        const dataTable =\n",
              "          await google.colab.kernel.invokeFunction('convertToInteractive',\n",
              "                                                    [key], {});\n",
              "        if (!dataTable) return;\n",
              "\n",
              "        const docLinkHtml = 'Like what you see? Visit the ' +\n",
              "          '<a target=\"_blank\" href=https://colab.research.google.com/notebooks/data_table.ipynb>data table notebook</a>'\n",
              "          + ' to learn more about interactive tables.';\n",
              "        element.innerHTML = '';\n",
              "        dataTable['output_type'] = 'display_data';\n",
              "        await google.colab.output.renderOutput(dataTable, element);\n",
              "        const docLink = document.createElement('div');\n",
              "        docLink.innerHTML = docLinkHtml;\n",
              "        element.appendChild(docLink);\n",
              "      }\n",
              "    </script>\n",
              "  </div>\n",
              "\n",
              "\n",
              "<div id=\"df-f5580b80-4566-4b80-ae31-5d61a58e3eab\">\n",
              "  <button class=\"colab-df-quickchart\" onclick=\"quickchart('df-f5580b80-4566-4b80-ae31-5d61a58e3eab')\"\n",
              "            title=\"Suggest charts\"\n",
              "            style=\"display:none;\">\n",
              "\n",
              "<svg xmlns=\"http://www.w3.org/2000/svg\" height=\"24px\"viewBox=\"0 0 24 24\"\n",
              "     width=\"24px\">\n",
              "    <g>\n",
              "        <path d=\"M19 3H5c-1.1 0-2 .9-2 2v14c0 1.1.9 2 2 2h14c1.1 0 2-.9 2-2V5c0-1.1-.9-2-2-2zM9 17H7v-7h2v7zm4 0h-2V7h2v10zm4 0h-2v-4h2v4z\"/>\n",
              "    </g>\n",
              "</svg>\n",
              "  </button>\n",
              "\n",
              "<style>\n",
              "  .colab-df-quickchart {\n",
              "      --bg-color: #E8F0FE;\n",
              "      --fill-color: #1967D2;\n",
              "      --hover-bg-color: #E2EBFA;\n",
              "      --hover-fill-color: #174EA6;\n",
              "      --disabled-fill-color: #AAA;\n",
              "      --disabled-bg-color: #DDD;\n",
              "  }\n",
              "\n",
              "  [theme=dark] .colab-df-quickchart {\n",
              "      --bg-color: #3B4455;\n",
              "      --fill-color: #D2E3FC;\n",
              "      --hover-bg-color: #434B5C;\n",
              "      --hover-fill-color: #FFFFFF;\n",
              "      --disabled-bg-color: #3B4455;\n",
              "      --disabled-fill-color: #666;\n",
              "  }\n",
              "\n",
              "  .colab-df-quickchart {\n",
              "    background-color: var(--bg-color);\n",
              "    border: none;\n",
              "    border-radius: 50%;\n",
              "    cursor: pointer;\n",
              "    display: none;\n",
              "    fill: var(--fill-color);\n",
              "    height: 32px;\n",
              "    padding: 0;\n",
              "    width: 32px;\n",
              "  }\n",
              "\n",
              "  .colab-df-quickchart:hover {\n",
              "    background-color: var(--hover-bg-color);\n",
              "    box-shadow: 0 1px 2px rgba(60, 64, 67, 0.3), 0 1px 3px 1px rgba(60, 64, 67, 0.15);\n",
              "    fill: var(--button-hover-fill-color);\n",
              "  }\n",
              "\n",
              "  .colab-df-quickchart-complete:disabled,\n",
              "  .colab-df-quickchart-complete:disabled:hover {\n",
              "    background-color: var(--disabled-bg-color);\n",
              "    fill: var(--disabled-fill-color);\n",
              "    box-shadow: none;\n",
              "  }\n",
              "\n",
              "  .colab-df-spinner {\n",
              "    border: 2px solid var(--fill-color);\n",
              "    border-color: transparent;\n",
              "    border-bottom-color: var(--fill-color);\n",
              "    animation:\n",
              "      spin 1s steps(1) infinite;\n",
              "  }\n",
              "\n",
              "  @keyframes spin {\n",
              "    0% {\n",
              "      border-color: transparent;\n",
              "      border-bottom-color: var(--fill-color);\n",
              "      border-left-color: var(--fill-color);\n",
              "    }\n",
              "    20% {\n",
              "      border-color: transparent;\n",
              "      border-left-color: var(--fill-color);\n",
              "      border-top-color: var(--fill-color);\n",
              "    }\n",
              "    30% {\n",
              "      border-color: transparent;\n",
              "      border-left-color: var(--fill-color);\n",
              "      border-top-color: var(--fill-color);\n",
              "      border-right-color: var(--fill-color);\n",
              "    }\n",
              "    40% {\n",
              "      border-color: transparent;\n",
              "      border-right-color: var(--fill-color);\n",
              "      border-top-color: var(--fill-color);\n",
              "    }\n",
              "    60% {\n",
              "      border-color: transparent;\n",
              "      border-right-color: var(--fill-color);\n",
              "    }\n",
              "    80% {\n",
              "      border-color: transparent;\n",
              "      border-right-color: var(--fill-color);\n",
              "      border-bottom-color: var(--fill-color);\n",
              "    }\n",
              "    90% {\n",
              "      border-color: transparent;\n",
              "      border-bottom-color: var(--fill-color);\n",
              "    }\n",
              "  }\n",
              "</style>\n",
              "\n",
              "  <script>\n",
              "    async function quickchart(key) {\n",
              "      const quickchartButtonEl =\n",
              "        document.querySelector('#' + key + ' button');\n",
              "      quickchartButtonEl.disabled = true;  // To prevent multiple clicks.\n",
              "      quickchartButtonEl.classList.add('colab-df-spinner');\n",
              "      try {\n",
              "        const charts = await google.colab.kernel.invokeFunction(\n",
              "            'suggestCharts', [key], {});\n",
              "      } catch (error) {\n",
              "        console.error('Error during call to suggestCharts:', error);\n",
              "      }\n",
              "      quickchartButtonEl.classList.remove('colab-df-spinner');\n",
              "      quickchartButtonEl.classList.add('colab-df-quickchart-complete');\n",
              "    }\n",
              "    (() => {\n",
              "      let quickchartButtonEl =\n",
              "        document.querySelector('#df-f5580b80-4566-4b80-ae31-5d61a58e3eab button');\n",
              "      quickchartButtonEl.style.display =\n",
              "        google.colab.kernel.accessAllowed ? 'block' : 'none';\n",
              "    })();\n",
              "  </script>\n",
              "</div>\n",
              "\n",
              "    </div>\n",
              "  </div>\n"
            ],
            "application/vnd.google.colaboratory.intrinsic+json": {
              "type": "dataframe",
              "variable_name": "contrastive_balanced_df",
              "summary": "{\n  \"name\": \"contrastive_balanced_df\",\n  \"rows\": 19880,\n  \"fields\": [\n    {\n      \"column\": \"sentence1\",\n      \"properties\": {\n        \"dtype\": \"string\",\n        \"num_unique_values\": 10223,\n        \"samples\": [\n          \"Four balanced budgets in a row, with no new taxes for anyone. The best job growth in 12 years. Nearly 130,000 new private-sector jobs. Merit pay to reward New Jerseys best teachers, and the most education funding ever.\",\n          \"Jim Renacci cheated on his income taxes and is a deadbeat citizen.\",\n          \"Says our economy in New Jersey gets $38 billion from the businesses at the Shore.\"\n        ],\n        \"semantic_type\": \"\",\n        \"description\": \"\"\n      }\n    },\n    {\n      \"column\": \"sentence2\",\n      \"properties\": {\n        \"dtype\": \"string\",\n        \"num_unique_values\": 17044,\n        \"samples\": [\n          \"Says Joe Straus was co-author of a bill that would have allowed Planned Parenthood to control public school sex education .\",\n          \"In Russia all people are absolutely equal regardless of their religion , sex , ethnicity , or sexual orientation , while 70 countries of the world have criminal liability for homosexuality .\",\n          \"it is the Senate immigration bill is going to make Patrol bigger than the FBI -- you could put agent every 250 feet .\"\n        ],\n        \"semantic_type\": \"\",\n        \"description\": \"\"\n      }\n    },\n    {\n      \"column\": \"label\",\n      \"properties\": {\n        \"dtype\": \"number\",\n        \"std\": 0,\n        \"min\": 0,\n        \"max\": 1,\n        \"num_unique_values\": 2,\n        \"samples\": [\n          1,\n          0\n        ],\n        \"semantic_type\": \"\",\n        \"description\": \"\"\n      }\n    }\n  ]\n}"
            }
          },
          "metadata": {},
          "execution_count": 189
        }
      ]
    },
    {
      "cell_type": "code",
      "source": [
        "# convert the sentence pairs to an instance of this class\n",
        "sentence1_list = list(contrastive_balanced_df['sentence1'])\n",
        "sentence2_list = list(contrastive_balanced_df['sentence2'])\n",
        "labels = list(contrastive_balanced_df['label'])\n",
        "\n",
        "dataset = ContrastivePairs(sentence1_list, sentence2_list, labels, tokenizer)\n",
        "dataloader = DataLoader(dataset, batch_size= 32, shuffle=True)\n"
      ],
      "metadata": {
        "id": "8YDcXTBTcpRP"
      },
      "execution_count": null,
      "outputs": []
    },
    {
      "cell_type": "code",
      "source": [
        "# CHATGPT assisted with the siamese network training\n",
        "\n",
        "\n",
        "# train the Siamese Network\n",
        "model = SiameseDistilBERT(distilbert_model)\n",
        "\n",
        "# use BCE loss as we are predicting binary labels\n",
        "loss_fn = nn.BCELoss()\n",
        "\n",
        "# for now, we will choose lr=1e-5\n",
        "optimizer = optim.Adam(model.parameters(), lr=1e-5)\n",
        "\n",
        "# use 3 epochs for now\n",
        "num_epochs = 3\n",
        "device = torch.device('cuda' if torch.cuda.is_available() else 'cpu')\n",
        "model.to(device)\n",
        "\n",
        "for epoch in range(num_epochs):\n",
        "    model.train()\n",
        "    total_loss = 0\n",
        "\n",
        "    for batch in tqdm(dataloader, desc=f\"Epoch {epoch + 1}/{num_epochs}\"):\n",
        "        input_ids1, attention_mask1, input_ids2, attention_mask2, labels = batch\n",
        "        input_ids1, attention_mask1 = input_ids1.to(device), attention_mask1.to(device)\n",
        "        input_ids2, attention_mask2 = input_ids2.to(device), attention_mask2.to(device)\n",
        "        labels = labels.to(device)\n",
        "\n",
        "        # forward pass\n",
        "        embedding1 = model(input_ids1, attention_mask1)\n",
        "        embedding2 = model(input_ids2, attention_mask2)\n",
        "\n",
        "        # compute cosine similarity and prepare targets for binary cross-entropy\n",
        "        cosine_similarity = torch.nn.functional.cosine_similarity(embedding1, embedding2)\n",
        "        predictions = torch.sigmoid(cosine_similarity)\n",
        "\n",
        "        # calculate BCE loss\n",
        "        loss = loss_fn(predictions, labels)\n",
        "\n",
        "        # backprop\n",
        "        optimizer.zero_grad()\n",
        "        loss.backward()\n",
        "        optimizer.step()\n",
        "\n",
        "        total_loss += loss.item()\n",
        "\n",
        "    # Print average loss for the epoch\n",
        "    print(f'Epoch {epoch + 1}, Loss: {total_loss / len(dataloader):.4f}')\n"
      ],
      "metadata": {
        "colab": {
          "base_uri": "https://localhost:8080/"
        },
        "id": "jxVYrP4s8Js9",
        "outputId": "5cb4765b-6ecf-4423-9ed5-41c729e90d10"
      },
      "execution_count": null,
      "outputs": [
        {
          "output_type": "stream",
          "name": "stderr",
          "text": [
            "Epoch 1/3: 100%|██████████| 622/622 [06:31<00:00,  1.59it/s]\n"
          ]
        },
        {
          "output_type": "stream",
          "name": "stdout",
          "text": [
            "Epoch 1, Loss: 0.5510\n"
          ]
        },
        {
          "output_type": "stream",
          "name": "stderr",
          "text": [
            "Epoch 2/3: 100%|██████████| 622/622 [06:30<00:00,  1.59it/s]\n"
          ]
        },
        {
          "output_type": "stream",
          "name": "stdout",
          "text": [
            "Epoch 2, Loss: 0.5273\n"
          ]
        },
        {
          "output_type": "stream",
          "name": "stderr",
          "text": [
            "Epoch 3/3: 100%|██████████| 622/622 [06:30<00:00,  1.59it/s]"
          ]
        },
        {
          "output_type": "stream",
          "name": "stdout",
          "text": [
            "Epoch 3, Loss: 0.5170\n"
          ]
        },
        {
          "output_type": "stream",
          "name": "stderr",
          "text": [
            "\n"
          ]
        }
      ]
    },
    {
      "cell_type": "code",
      "source": [
        "# use the trained model to get embeddings for the statements in the original train, validation, and test sets\n",
        "# we will use these embeddings in a logistic regression model\n",
        "\n",
        "#train\n",
        "train_sentences = list(train_df['statement'])\n",
        "X_train = get_sentence_embeddings(model, tokenizer, train_sentences, device)\n",
        "y_train = list(train_df['grouped_label'])\n",
        "\n",
        "\n",
        "#validation\n",
        "val_sentences = list(val_df['statement'])\n",
        "X_val = get_sentence_embeddings(model, tokenizer, val_sentences, device)\n",
        "y_val = list(val_df['grouped_label'])\n",
        "\n",
        "#test\n",
        "test_sentences = list(test_df['statement'])  # List of sentences from the test set\n",
        "X_test = get_sentence_embeddings(model, tokenizer, test_sentences, device)\n",
        "y_test = list(test_df['grouped_label'])\n"
      ],
      "metadata": {
        "id": "bcAd_Di2OvzV"
      },
      "execution_count": null,
      "outputs": []
    },
    {
      "cell_type": "code",
      "source": [
        "# train the logistic regression model\n",
        "logreg = LogisticRegression(max_iter=1000, multi_class='multinomial', solver='lbfgs')\n",
        "logreg.fit(X_train, y_train)\n",
        "\n",
        "# predict and evaluate on the validation set\n",
        "y_val_pred = logreg.predict(X_val)\n",
        "val_accuracy = accuracy_score(y_val, y_val_pred)\n",
        "print(classification_report(y_val, y_val_pred, target_names=['Class 1', 'Class 2', 'Class 3']))\n",
        "conf_matrix = confusion_matrix(y_val, y_val_pred)\n",
        "print(conf_matrix)"
      ],
      "metadata": {
        "colab": {
          "base_uri": "https://localhost:8080/"
        },
        "id": "bVrkvndoU8hv",
        "outputId": "1d7171de-10ea-4fea-9da9-9f94706d3ae6"
      },
      "execution_count": null,
      "outputs": [
        {
          "output_type": "stream",
          "name": "stderr",
          "text": [
            "/usr/local/lib/python3.10/dist-packages/sklearn/linear_model/_logistic.py:1247: FutureWarning: 'multi_class' was deprecated in version 1.5 and will be removed in 1.7. From then on, it will always use 'multinomial'. Leave it to its default value to avoid this warning.\n",
            "  warnings.warn(\n"
          ]
        },
        {
          "output_type": "stream",
          "name": "stdout",
          "text": [
            "Validation Accuracy: 0.4502\n",
            "Validation Classification Report:\n",
            "              precision    recall  f1-score   support\n",
            "\n",
            "     Class 1       0.46      0.33      0.39       379\n",
            "     Class 2       0.43      0.47      0.45       485\n",
            "     Class 3       0.46      0.54      0.50       420\n",
            "\n",
            "    accuracy                           0.45      1284\n",
            "   macro avg       0.45      0.45      0.44      1284\n",
            "weighted avg       0.45      0.45      0.45      1284\n",
            "\n",
            "[[126 156  97]\n",
            " [ 92 226 167]\n",
            " [ 53 141 226]]\n"
          ]
        }
      ]
    },
    {
      "cell_type": "code",
      "source": [
        "# predict and evaluate on the test set\n",
        "y_test_pred = logreg.predict(X_test)\n",
        "test_accuracy = accuracy_score(y_test, y_test_pred)\n",
        "print(classification_report(y_test, y_test_pred, target_names=['Class 1', 'Class 2', 'Class 3']))\n",
        "conf_matrix = confusion_matrix(y_test, y_test_pred)\n",
        "print(conf_matrix)"
      ],
      "metadata": {
        "colab": {
          "base_uri": "https://localhost:8080/"
        },
        "id": "lJZCg-PwclIB",
        "outputId": "bb410fff-a960-4709-e825-8a4b92cfe286"
      },
      "execution_count": null,
      "outputs": [
        {
          "output_type": "stream",
          "name": "stdout",
          "text": [
            "Test Accuracy: 0.4428\n",
            "Test Classification Report:\n",
            "              precision    recall  f1-score   support\n",
            "\n",
            "     Class 1       0.39      0.32      0.35       341\n",
            "     Class 2       0.44      0.47      0.45       477\n",
            "     Class 3       0.47      0.51      0.49       449\n",
            "\n",
            "    accuracy                           0.44      1267\n",
            "   macro avg       0.44      0.43      0.43      1267\n",
            "weighted avg       0.44      0.44      0.44      1267\n",
            "\n",
            "[[108 135  98]\n",
            " [ 96 223 158]\n",
            " [ 71 148 230]]\n"
          ]
        }
      ]
    },
    {
      "cell_type": "markdown",
      "source": [
        "### Approach 2: \"Supervised\" Labels\n",
        "\n",
        "* We will use the truthfulness labels to create positive and negative pairs\n",
        "* Positive: Two statements that have the same truthfulness rating (randomly chosen)\n",
        "* Negative: Two statements that do not have the same truthfulness rating (randomly chosen)\n",
        "* After creating the contrastive learning dataset in this way, we will execute the same steps as in the first approach\n",
        "\n",
        "\n"
      ],
      "metadata": {
        "id": "eVC-gkYZfhke"
      }
    },
    {
      "cell_type": "code",
      "source": [
        "# create a new contrastive_df\n",
        "\n",
        "positive_pairs = []\n",
        "# group by the truth label so we can create random pairs\n",
        "grouped = train_df.groupby('grouped_label')\n",
        "for label, group in grouped:\n",
        "    sentences = group['statement'].tolist()\n",
        "    # find every positive pair (anything within the group is eligible)\n",
        "    positive_pairs.extend([(s1, s2, 1) for s1, s2 in itertools.combinations(sentences, 2)])\n",
        "\n",
        "# sample down positive pairs to one per sentence so that there aren't too many\n",
        "positive_df = pd.DataFrame(positive_pairs, columns=['sentence1', 'sentence2', 'label'])\n",
        "positive_df = positive_df.groupby('sentence1').sample(n=1, random_state=230)\n",
        "\n",
        "negative_pairs = []\n",
        "all_sentences = list(train_df['statement'])\n",
        "labels = list(train_df['grouped_label'])\n",
        "for i, (sent, label) in enumerate(zip(all_sentences, labels)):\n",
        "    negative_samples = train_df[train_df['grouped_label'] != label]['statement'] \\\n",
        "        .sample(n=1, random_state=i, replace=True).tolist()\n",
        "    negative_pairs.extend([(sent, neg_sent, 0) for neg_sent in negative_samples])\n",
        "\n",
        "negative_df = pd.DataFrame(negative_pairs, columns=['sentence1', 'sentence2', 'label'])\n",
        "contrastive_df = pd.concat([positive_df, negative_df], ignore_index=True)\n",
        "\n"
      ],
      "metadata": {
        "id": "vhlexiKFWPtv"
      },
      "execution_count": null,
      "outputs": []
    },
    {
      "cell_type": "code",
      "source": [
        "# check if it is balanced!\n",
        "# rename to contrastive_balanced_df if it is not balanced\n",
        "\n",
        "print(sum(contrastive_df['label'])/len(contrastive_df))\n",
        "contrastive_balanced_df = contrastive_df"
      ],
      "metadata": {
        "id": "_2kFaYtGWaWG"
      },
      "execution_count": null,
      "outputs": []
    },
    {
      "cell_type": "code",
      "source": [
        "# convert the sentence pairs to an instance of this class\n",
        "sentence1_list = list(contrastive_balanced_df['sentence1'])\n",
        "sentence2_list = list(contrastive_balanced_df['sentence2'])\n",
        "labels = list(contrastive_balanced_df['label'])\n",
        "\n",
        "dataset = ContrastivePairs(sentence1_list, sentence2_list, labels, tokenizer)\n",
        "dataloader = DataLoader(dataset, batch_size= 32, shuffle=True)\n"
      ],
      "metadata": {
        "id": "cCXYtEc5qpeU"
      },
      "execution_count": null,
      "outputs": []
    },
    {
      "cell_type": "code",
      "source": [
        "# CHATGPT assisted with the siamese network training\n",
        "\n",
        "\n",
        "# train the Siamese Network\n",
        "model = SiameseDistilBERT(distilbert_model)\n",
        "\n",
        "# use BCE loss as we are predicting binary labels\n",
        "loss_fn = nn.BCELoss()\n",
        "\n",
        "# for now, we will choose lr=1e-5\n",
        "optimizer = optim.Adam(model.parameters(), lr=1e-5)\n",
        "\n",
        "# use 3 epochs for now\n",
        "num_epochs = 3\n",
        "device = torch.device('cuda' if torch.cuda.is_available() else 'cpu')\n",
        "model.to(device)\n",
        "\n",
        "for epoch in range(num_epochs):\n",
        "    model.train()\n",
        "    total_loss = 0\n",
        "\n",
        "    for batch in tqdm(dataloader, desc=f\"Epoch {epoch + 1}/{num_epochs}\"):\n",
        "        input_ids1, attention_mask1, input_ids2, attention_mask2, labels = batch\n",
        "        input_ids1, attention_mask1 = input_ids1.to(device), attention_mask1.to(device)\n",
        "        input_ids2, attention_mask2 = input_ids2.to(device), attention_mask2.to(device)\n",
        "        labels = labels.to(device)\n",
        "\n",
        "        # forward pass\n",
        "        embedding1 = model(input_ids1, attention_mask1)\n",
        "        embedding2 = model(input_ids2, attention_mask2)\n",
        "\n",
        "        # compute cosine similarity and prepare targets for binary cross-entropy\n",
        "        cosine_similarity = torch.nn.functional.cosine_similarity(embedding1, embedding2)\n",
        "        predictions = torch.sigmoid(cosine_similarity)\n",
        "\n",
        "        # calculate BCE loss\n",
        "        loss = loss_fn(predictions, labels)\n",
        "\n",
        "        # backprop\n",
        "        optimizer.zero_grad()\n",
        "        loss.backward()\n",
        "        optimizer.step()\n",
        "\n",
        "        total_loss += loss.item()\n",
        "\n",
        "    # Print average loss for the epoch\n",
        "    print(f'Epoch {epoch + 1}, Loss: {total_loss / len(dataloader):.4f}')\n"
      ],
      "metadata": {
        "colab": {
          "base_uri": "https://localhost:8080/"
        },
        "id": "iM33vaXXZH9i",
        "outputId": "9b01a3b5-ff66-41cc-e18e-ee95f3a388bd"
      },
      "execution_count": null,
      "outputs": [
        {
          "metadata": {
            "tags": null
          },
          "name": "stderr",
          "output_type": "stream",
          "text": [
            "Epoch 1/3: 100%|██████████| 10230/10230 [13:46<00:00, 12.37it/s]\n"
          ]
        },
        {
          "metadata": {
            "tags": null
          },
          "name": "stdout",
          "output_type": "stream",
          "text": [
            "Epoch 1/3, Loss: 0.6980\n"
          ]
        },
        {
          "metadata": {
            "tags": null
          },
          "name": "stderr",
          "output_type": "stream",
          "text": [
            "Epoch 2/3: 100%|██████████| 10230/10230 [13:48<00:00, 12.35it/s]\n"
          ]
        },
        {
          "metadata": {
            "tags": null
          },
          "name": "stdout",
          "output_type": "stream",
          "text": [
            "Epoch 2/3, Loss: 0.6763\n"
          ]
        },
        {
          "output_type": "stream",
          "name": "stderr",
          "text": [
            "Epoch 3/3: 100%|██████████| 10230/10230 [12:59<00:00, 13.12it/s]"
          ]
        },
        {
          "output_type": "stream",
          "name": "stdout",
          "text": [
            "Epoch 3/3, Loss: 0.6421\n",
            "Training completed.\n"
          ]
        },
        {
          "output_type": "stream",
          "name": "stderr",
          "text": [
            "\n"
          ]
        }
      ]
    },
    {
      "cell_type": "code",
      "source": [
        "# use the trained model to get embeddings for the statements in the original train, validation, and test sets\n",
        "# we will use these embeddings in a logistic regression model\n",
        "\n",
        "#train\n",
        "train_sentences = list(train_df['statement'])\n",
        "X_train = get_sentence_embeddings(model, tokenizer, train_sentences, device)\n",
        "y_train = list(train_df['grouped_label'])\n",
        "\n",
        "\n",
        "#validation\n",
        "val_sentences = list(val_df['statement'])\n",
        "X_val = get_sentence_embeddings(model, tokenizer, val_sentences, device)\n",
        "y_val = list(val_df['grouped_label'])\n",
        "\n",
        "#test\n",
        "test_sentences = list(test_df['statement'])  # List of sentences from the test set\n",
        "X_test = get_sentence_embeddings(model, tokenizer, test_sentences, device)\n",
        "y_test = list(test_df['grouped_label'])\n"
      ],
      "metadata": {
        "id": "W9kffLeprvEe"
      },
      "execution_count": null,
      "outputs": []
    },
    {
      "cell_type": "code",
      "source": [
        "# train the logistic regression model\n",
        "logreg = LogisticRegression(max_iter=1000, multi_class='multinomial', solver='lbfgs')\n",
        "logreg.fit(X_train, y_train)\n",
        "\n",
        "# predict and evaluate on the validation set\n",
        "y_val_pred = logreg.predict(X_val)\n",
        "val_accuracy = accuracy_score(y_val, y_val_pred)\n",
        "print(f'Validation Accuracy: {val_accuracy:.4f}')\n",
        "print('Validation Classification Report:')\n",
        "print(classification_report(y_val, y_val_pred, target_names=['Class 1', 'Class 2', 'Class 3']))\n",
        "conf_matrix = confusion_matrix(y_val, y_val_pred)\n",
        "print(conf_matrix)"
      ],
      "metadata": {
        "colab": {
          "base_uri": "https://localhost:8080/"
        },
        "id": "XAgVdHIdrwG4",
        "outputId": "7d969eb7-9cce-4f3d-f0e7-420ab4cbcf1e"
      },
      "execution_count": null,
      "outputs": [
        {
          "output_type": "stream",
          "name": "stderr",
          "text": [
            "/usr/local/lib/python3.10/dist-packages/sklearn/linear_model/_logistic.py:1247: FutureWarning: 'multi_class' was deprecated in version 1.5 and will be removed in 1.7. From then on, it will always use 'multinomial'. Leave it to its default value to avoid this warning.\n",
            "  warnings.warn(\n"
          ]
        },
        {
          "output_type": "stream",
          "name": "stdout",
          "text": [
            "Validation Accuracy: 0.4260\n",
            "Validation Classification Report:\n",
            "              precision    recall  f1-score   support\n",
            "\n",
            "     Class 1       0.40      0.35      0.37       379\n",
            "     Class 2       0.43      0.45      0.44       485\n",
            "     Class 3       0.44      0.47      0.46       420\n",
            "\n",
            "    accuracy                           0.43      1284\n",
            "   macro avg       0.42      0.42      0.42      1284\n",
            "weighted avg       0.42      0.43      0.42      1284\n",
            "\n",
            "[[132 150  97]\n",
            " [115 216 154]\n",
            " [ 83 138 199]]\n"
          ]
        }
      ]
    },
    {
      "cell_type": "code",
      "source": [
        "# predict and evaluate on the test set\n",
        "y_test_pred = logreg.predict(X_test)\n",
        "test_accuracy = accuracy_score(y_test, y_test_pred)\n",
        "print(f'Test Accuracy: {test_accuracy:.4f}')\n",
        "print('Test Classification Report:')\n",
        "print(classification_report(y_test, y_test_pred, target_names=['Class 1', 'Class 2', 'Class 3']))\n",
        "conf_matrix = confusion_matrix(y_test, y_test_pred)\n",
        "print(conf_matrix)"
      ],
      "metadata": {
        "colab": {
          "base_uri": "https://localhost:8080/"
        },
        "id": "-Ar7w1wcrydq",
        "outputId": "a38fea24-0721-4da0-af70-bf09432d2aed"
      },
      "execution_count": null,
      "outputs": [
        {
          "output_type": "stream",
          "name": "stdout",
          "text": [
            "Test Accuracy: 0.4491\n",
            "Test Classification Report:\n",
            "              precision    recall  f1-score   support\n",
            "\n",
            "     Class 1       0.39      0.37      0.38       341\n",
            "     Class 2       0.43      0.47      0.45       477\n",
            "     Class 3       0.51      0.49      0.50       449\n",
            "\n",
            "    accuracy                           0.45      1267\n",
            "   macro avg       0.45      0.44      0.44      1267\n",
            "weighted avg       0.45      0.45      0.45      1267\n",
            "\n",
            "[[125 142  74]\n",
            " [118 225 134]\n",
            " [ 76 154 219]]\n"
          ]
        }
      ]
    },
    {
      "cell_type": "markdown",
      "metadata": {
        "id": "qXGqC9Lf1hbv"
      },
      "source": [
        "# Pre-Trained BERT\n",
        "\n",
        "* Will use DistilBERT for faster training"
      ]
    },
    {
      "cell_type": "code",
      "source": [
        "# this class prepares the statements for the right format to be used\n",
        "# with the DistilBERT model\n",
        "\n",
        "# Chat GPT assisted in the creation of this class\n",
        "\n",
        "class SentimentDataset(Dataset):\n",
        "    def __init__(self, encodings, labels):\n",
        "        self.encodings = encodings\n",
        "        self.labels = labels\n",
        "\n",
        "    def __getitem__(self, idx):\n",
        "        item = {key: torch.tensor(val[idx]) for key, val in self.encodings.items()}\n",
        "        item['labels'] = torch.tensor(self.labels[idx])\n",
        "        return item\n",
        "\n",
        "    def __len__(self):\n",
        "        return len(self.labels)\n",
        "\n",
        "# function passed to Trainer\n",
        "def compute_metrics(pred):\n",
        "    labels = pred.label_ids\n",
        "    preds = pred.predictions.argmax(-1)\n",
        "    return {\"accuracy\": accuracy_score(labels, preds)}"
      ],
      "metadata": {
        "id": "AsZ3dYaDsviF"
      },
      "execution_count": 14,
      "outputs": []
    },
    {
      "cell_type": "markdown",
      "source": [
        "## Non-Augmented Data\n",
        "\n",
        "- first we will fine-tune BERT on the original version of the data"
      ],
      "metadata": {
        "id": "X1Ts3aSGswLL"
      }
    },
    {
      "cell_type": "code",
      "execution_count": 19,
      "metadata": {
        "id": "stiPACnXnCHH"
      },
      "outputs": [],
      "source": [
        "\n",
        "X_train = train_df['statement']\n",
        "y_train = train_df['grouped_label']\n",
        "\n",
        "X_val = val_df['statement']\n",
        "y_val = val_df['grouped_label']\n",
        "\n",
        "X_test = test_df['statement']\n",
        "y_test = test_df['grouped_label']\n",
        "\n",
        "\n",
        "# use distilBERT\n",
        "tokenizer = DistilBertTokenizer.from_pretrained(\"distilbert-base-uncased\")\n",
        "\n",
        "# tokenize input data\n",
        "X_train_tokenized = tokenizer(list(X_train), padding=\"max_length\", truncation=True, max_length=128)\n",
        "X_val_tokenized = tokenizer(list(X_val), padding=\"max_length\", truncation=True, max_length=128)\n",
        "X_test_tokenized = tokenizer(list(X_test), padding=\"max_length\", truncation=True, max_length=128)\n"
      ]
    },
    {
      "cell_type": "code",
      "execution_count": 20,
      "metadata": {
        "id": "8LueHdOnna50"
      },
      "outputs": [],
      "source": [
        "# convert data into class that can be used by DistilBERT\n",
        "\n",
        "train_dataset = SentimentDataset(X_train_tokenized, y_train_encoded)\n",
        "val_dataset = SentimentDataset(X_val_tokenized, y_val_encoded)\n",
        "test_dataset = SentimentDataset(X_test_tokenized, y_test_encoded)"
      ]
    },
    {
      "cell_type": "code",
      "source": [
        "model = DistilBertForSequenceClassification.from_pretrained(\"distilbert-base-uncased\", num_labels=len(label_encoder.classes_))"
      ],
      "metadata": {
        "colab": {
          "base_uri": "https://localhost:8080/"
        },
        "id": "jrBvUixCv0yK",
        "outputId": "3f48bfb5-6e8d-4522-924e-f7c0d5365184"
      },
      "execution_count": null,
      "outputs": [
        {
          "output_type": "stream",
          "name": "stderr",
          "text": [
            "Some weights of DistilBertForSequenceClassification were not initialized from the model checkpoint at distilbert-base-uncased and are newly initialized: ['classifier.bias', 'classifier.weight', 'pre_classifier.bias', 'pre_classifier.weight']\n",
            "You should probably TRAIN this model on a down-stream task to be able to use it for predictions and inference.\n"
          ]
        }
      ]
    },
    {
      "cell_type": "code",
      "source": [
        "# CHATGPT assisted with the trainingargs and trainer setup\n",
        "\n",
        "training_args = TrainingArguments(\n",
        "    output_dir=\"./results\",\n",
        "    learning_rate=2e-5,\n",
        "    per_device_train_batch_size=8,\n",
        "    per_device_eval_batch_size=8,\n",
        "    num_train_epochs=10,\n",
        "    weight_decay=0.01,\n",
        "    logging_dir='./logs',\n",
        "    evaluation_strategy=\"epoch\",\n",
        "    save_strategy=\"epoch\",\n",
        "    logging_strategy=\"steps\",\n",
        "    load_best_model_at_end=True\n",
        ")\n",
        "\n",
        "# we want to use early stopping\n",
        "trainer = Trainer(\n",
        "    model=model,\n",
        "    args=training_args,\n",
        "    train_dataset=train_dataset,\n",
        "    eval_dataset=val_dataset,\n",
        "    compute_metrics=compute_metrics,\n",
        "    callbacks=[EarlyStoppingCallback(early_stopping_patience=3)]\n",
        ")\n",
        "\n",
        "# train model\n",
        "trainer.train()\n"
      ],
      "metadata": {
        "colab": {
          "base_uri": "https://localhost:8080/",
          "height": 328
        },
        "id": "JQOsh5nvv2xb",
        "outputId": "d9fb272b-8174-437b-c92c-fad128e41a7c"
      },
      "execution_count": null,
      "outputs": [
        {
          "output_type": "stream",
          "name": "stderr",
          "text": [
            "/usr/local/lib/python3.10/dist-packages/transformers/training_args.py:1568: FutureWarning: `evaluation_strategy` is deprecated and will be removed in version 4.46 of 🤗 Transformers. Use `eval_strategy` instead\n",
            "  warnings.warn(\n"
          ]
        },
        {
          "output_type": "display_data",
          "data": {
            "text/plain": [
              "<IPython.core.display.HTML object>"
            ],
            "text/html": [
              "\n",
              "    <div>\n",
              "      \n",
              "      <progress value='5120' max='12800' style='width:300px; height:20px; vertical-align: middle;'></progress>\n",
              "      [ 5120/12800 10:31 < 15:47, 8.11 it/s, Epoch 4/10]\n",
              "    </div>\n",
              "    <table border=\"1\" class=\"dataframe\">\n",
              "  <thead>\n",
              " <tr style=\"text-align: left;\">\n",
              "      <th>Epoch</th>\n",
              "      <th>Training Loss</th>\n",
              "      <th>Validation Loss</th>\n",
              "      <th>Accuracy</th>\n",
              "    </tr>\n",
              "  </thead>\n",
              "  <tbody>\n",
              "    <tr>\n",
              "      <td>1</td>\n",
              "      <td>1.060500</td>\n",
              "      <td>1.029495</td>\n",
              "      <td>0.474299</td>\n",
              "    </tr>\n",
              "    <tr>\n",
              "      <td>2</td>\n",
              "      <td>0.945200</td>\n",
              "      <td>1.040565</td>\n",
              "      <td>0.476636</td>\n",
              "    </tr>\n",
              "    <tr>\n",
              "      <td>3</td>\n",
              "      <td>0.741000</td>\n",
              "      <td>1.190901</td>\n",
              "      <td>0.465732</td>\n",
              "    </tr>\n",
              "    <tr>\n",
              "      <td>4</td>\n",
              "      <td>0.459700</td>\n",
              "      <td>1.628381</td>\n",
              "      <td>0.450935</td>\n",
              "    </tr>\n",
              "  </tbody>\n",
              "</table><p>"
            ]
          },
          "metadata": {}
        },
        {
          "output_type": "execute_result",
          "data": {
            "text/plain": [
              "TrainOutput(global_step=5120, training_loss=0.8020833879709244, metrics={'train_runtime': 631.5456, 'train_samples_per_second': 162.142, 'train_steps_per_second': 20.268, 'total_flos': 1356490352885760.0, 'train_loss': 0.8020833879709244, 'epoch': 4.0})"
            ]
          },
          "metadata": {},
          "execution_count": 216
        }
      ]
    },
    {
      "cell_type": "code",
      "source": [
        "# evaluate on test\n",
        "test_results = trainer.evaluate(test_dataset)\n",
        "print(test_results)\n",
        "\n",
        "predictions = trainer.predict(test_dataset)\n",
        "predicted_labels = predictions.predictions.argmax(-1)\n",
        "y_true = predictions.label_ids\n",
        "print(classification_report(y_true, predicted_labels, target_names=label_encoder.classes_))\n",
        "\n",
        "cm = confusion_matrix(y_true, predicted_labels)\n",
        "cm_df = pd.DataFrame(cm, index=label_encoder.classes_, columns=label_encoder.classes_)\n",
        "print(cm_df)\n"
      ],
      "metadata": {
        "colab": {
          "base_uri": "https://localhost:8080/",
          "height": 341
        },
        "id": "px9cCXcVv1Qj",
        "outputId": "448c7481-009a-4ee1-eacd-c866ad30fc32"
      },
      "execution_count": null,
      "outputs": [
        {
          "output_type": "display_data",
          "data": {
            "text/plain": [
              "<IPython.core.display.HTML object>"
            ],
            "text/html": []
          },
          "metadata": {}
        },
        {
          "output_type": "stream",
          "name": "stdout",
          "text": [
            "{'eval_loss': 1.03618586063385, 'eval_accuracy': 0.4546172059984215, 'eval_runtime': 4.4128, 'eval_samples_per_second': 287.118, 'eval_steps_per_second': 36.031, 'epoch': 4.0}\n",
            "                  precision    recall  f1-score   support\n",
            "\n",
            "           False       0.41      0.31      0.35       341\n",
            "  Partially True       0.44      0.39      0.41       477\n",
            "True/Mostly True       0.48      0.63      0.55       449\n",
            "\n",
            "        accuracy                           0.45      1267\n",
            "       macro avg       0.44      0.44      0.44      1267\n",
            "    weighted avg       0.45      0.45      0.45      1267\n",
            "\n",
            "\n",
            "Confusion Matrix:\n",
            "                  False  Partially True  True/Mostly True\n",
            "False               107             117               117\n",
            "Partially True      107             184               186\n",
            "True/Mostly True     49             115               285\n"
          ]
        }
      ]
    },
    {
      "cell_type": "markdown",
      "source": [
        "### Augmented Data\n",
        "- Next, we fine-tune BERT on augmented data\n",
        "- Most code looks the same"
      ],
      "metadata": {
        "id": "aCAbeYde-LA2"
      }
    },
    {
      "cell_type": "code",
      "source": [
        "# do label encoding for the \"label\" outcome to have numerical values\n",
        "\n",
        "\n",
        "X_train = train_df_combined['statement']\n",
        "y_train = train_df_combined['grouped_label']\n",
        "\n",
        "X_val = val_df['statement']\n",
        "y_val = val_df['grouped_label']\n",
        "\n",
        "X_test = test_df['statement']\n",
        "y_test = test_df['grouped_label']\n",
        "\n",
        "\n",
        "tokenizer = DistilBertTokenizer.from_pretrained(\"distilbert-base-uncased\")\n",
        "\n",
        "X_train_tokenized = tokenizer(list(X_train), padding=\"max_length\", truncation=True, max_length=128)\n",
        "X_val_tokenized = tokenizer(list(X_val), padding=\"max_length\", truncation=True, max_length=128)\n",
        "X_test_tokenized = tokenizer(list(X_test), padding=\"max_length\", truncation=True, max_length=128)\n"
      ],
      "metadata": {
        "id": "xr0WtDZhBmDj"
      },
      "execution_count": 21,
      "outputs": []
    },
    {
      "cell_type": "code",
      "source": [
        "# same steps as before\n",
        "\n",
        "train_dataset = SentimentDataset(X_train_tokenized, y_train_encoded)\n",
        "val_dataset = SentimentDataset(X_val_tokenized, y_val_encoded)\n",
        "test_dataset = SentimentDataset(X_test_tokenized, y_test_encoded)\n"
      ],
      "metadata": {
        "id": "19gFYyqwCimL"
      },
      "execution_count": 22,
      "outputs": []
    },
    {
      "cell_type": "code",
      "source": [
        "model = DistilBertForSequenceClassification.from_pretrained(\"distilbert-base-uncased\", num_labels=len(label_encoder.classes_))\n"
      ],
      "metadata": {
        "colab": {
          "base_uri": "https://localhost:8080/",
          "height": 104,
          "referenced_widgets": [
            "99bc3286fc14435ba89a2a213760c486",
            "25ee76b961054d1a9c321d9db520ebb3",
            "6ed97b6e5fe44988b5c9eb67a70b6a54",
            "c2e3f2ea90f042898d50e2ac2464f746",
            "da1008dafebc40ccb1efe66d799f51ba",
            "4054ced3d54b40d68e9f855fe4b5d826",
            "6e91636ffd9a4888af41dd0366a7bdae",
            "b5495d0a9fe647afa9b539b78306a24c",
            "13b9dbf62f144e2481546917fe0a7467",
            "2082b6cc4c5e4c65a4ba52e02cccd586",
            "4940bb4187104ca7a1ea6830d880a40f"
          ]
        },
        "id": "1p3QdCDEtqZw",
        "outputId": "d6be83f5-65a1-4a3a-caca-0d9ffda34cc7"
      },
      "execution_count": 23,
      "outputs": [
        {
          "output_type": "display_data",
          "data": {
            "text/plain": [
              "model.safetensors:   0%|          | 0.00/268M [00:00<?, ?B/s]"
            ],
            "application/vnd.jupyter.widget-view+json": {
              "version_major": 2,
              "version_minor": 0,
              "model_id": "99bc3286fc14435ba89a2a213760c486"
            }
          },
          "metadata": {}
        },
        {
          "output_type": "stream",
          "name": "stderr",
          "text": [
            "Some weights of DistilBertForSequenceClassification were not initialized from the model checkpoint at distilbert-base-uncased and are newly initialized: ['classifier.bias', 'classifier.weight', 'pre_classifier.bias', 'pre_classifier.weight']\n",
            "You should probably TRAIN this model on a down-stream task to be able to use it for predictions and inference.\n"
          ]
        }
      ]
    },
    {
      "cell_type": "code",
      "source": [
        "# CHATGPT assisted with the trainingargs and trainer setup\n",
        "# same as before\n",
        "training_args = TrainingArguments(\n",
        "    output_dir=\"./results\",\n",
        "    learning_rate=2e-5,\n",
        "    per_device_train_batch_size=8,\n",
        "    per_device_eval_batch_size=8,\n",
        "    num_train_epochs=10,\n",
        "    weight_decay=0.01,\n",
        "    logging_dir='./logs',\n",
        "    evaluation_strategy=\"epoch\",\n",
        "    save_strategy=\"epoch\",\n",
        "    logging_strategy=\"steps\",\n",
        "    load_best_model_at_end=True\n",
        ")\n",
        "\n",
        "trainer = Trainer(\n",
        "    model=model,\n",
        "    args=training_args,\n",
        "    train_dataset=train_dataset,\n",
        "    eval_dataset=val_dataset,\n",
        "    compute_metrics=compute_metrics,\n",
        "    callbacks=[EarlyStoppingCallback(early_stopping_patience=3)]\n",
        ")\n",
        "\n",
        "trainer.train()\n"
      ],
      "metadata": {
        "id": "W8nxHhdCC3kH",
        "colab": {
          "base_uri": "https://localhost:8080/",
          "height": 449
        },
        "outputId": "7778124a-fe13-4a22-8fd2-bbc55eaa69c6"
      },
      "execution_count": null,
      "outputs": [
        {
          "metadata": {
            "tags": null
          },
          "name": "stderr",
          "output_type": "stream",
          "text": [
            "/usr/local/lib/python3.10/dist-packages/transformers/training_args.py:1568: FutureWarning: `evaluation_strategy` is deprecated and will be removed in version 4.46 of 🤗 Transformers. Use `eval_strategy` instead\n",
            "  warnings.warn(\n"
          ]
        },
        {
          "data": {
            "text/html": [
              "\n",
              "    <div>\n",
              "      \n",
              "      <progress value='3396' max='12800' style='width:300px; height:20px; vertical-align: middle;'></progress>\n",
              "      [ 3396/12800 06:15 < 17:21, 9.03 it/s, Epoch 2.65/10]\n",
              "    </div>\n",
              "    <table border=\"1\" class=\"dataframe\">\n",
              "  <thead>\n",
              " <tr style=\"text-align: left;\">\n",
              "      <th>Epoch</th>\n",
              "      <th>Training Loss</th>\n",
              "      <th>Validation Loss</th>\n",
              "      <th>Accuracy</th>\n",
              "    </tr>\n",
              "  </thead>\n",
              "  <tbody>\n",
              "    <tr>\n",
              "      <td>1</td>\n",
              "      <td>1.058500</td>\n",
              "      <td>1.027985</td>\n",
              "      <td>0.459502</td>\n",
              "    </tr>\n",
              "    <tr>\n",
              "      <td>2</td>\n",
              "      <td>0.928700</td>\n",
              "      <td>1.045783</td>\n",
              "      <td>0.482866</td>\n",
              "    </tr>\n",
              "  </tbody>\n",
              "</table><p>"
            ],
            "text/plain": [
              "<IPython.core.display.HTML object>"
            ]
          },
          "metadata": {},
          "output_type": "display_data"
        },
        {
          "output_type": "display_data",
          "data": {
            "text/plain": [
              "<IPython.core.display.HTML object>"
            ],
            "text/html": [
              "\n",
              "    <div>\n",
              "      \n",
              "      <progress value='5120' max='12800' style='width:300px; height:20px; vertical-align: middle;'></progress>\n",
              "      [ 5120/12800 09:52 < 14:48, 8.64 it/s, Epoch 4/10]\n",
              "    </div>\n",
              "    <table border=\"1\" class=\"dataframe\">\n",
              "  <thead>\n",
              " <tr style=\"text-align: left;\">\n",
              "      <th>Epoch</th>\n",
              "      <th>Training Loss</th>\n",
              "      <th>Validation Loss</th>\n",
              "      <th>Accuracy</th>\n",
              "    </tr>\n",
              "  </thead>\n",
              "  <tbody>\n",
              "    <tr>\n",
              "      <td>1</td>\n",
              "      <td>1.058500</td>\n",
              "      <td>1.027985</td>\n",
              "      <td>0.459502</td>\n",
              "    </tr>\n",
              "    <tr>\n",
              "      <td>2</td>\n",
              "      <td>0.928700</td>\n",
              "      <td>1.045783</td>\n",
              "      <td>0.482866</td>\n",
              "    </tr>\n",
              "    <tr>\n",
              "      <td>3</td>\n",
              "      <td>0.717600</td>\n",
              "      <td>1.190913</td>\n",
              "      <td>0.458723</td>\n",
              "    </tr>\n",
              "    <tr>\n",
              "      <td>4</td>\n",
              "      <td>0.430000</td>\n",
              "      <td>1.649850</td>\n",
              "      <td>0.459502</td>\n",
              "    </tr>\n",
              "  </tbody>\n",
              "</table><p>"
            ]
          },
          "metadata": {}
        },
        {
          "output_type": "execute_result",
          "data": {
            "text/plain": [
              "TrainOutput(global_step=5120, training_loss=0.7869598411023617, metrics={'train_runtime': 592.2074, 'train_samples_per_second': 172.912, 'train_steps_per_second': 21.614, 'total_flos': 1356490352885760.0, 'train_loss': 0.7869598411023617, 'epoch': 4.0})"
            ]
          },
          "metadata": {},
          "execution_count": 221
        }
      ]
    },
    {
      "cell_type": "code",
      "source": [
        "# evaluate on test\n",
        "test_results = trainer.evaluate(test_dataset)\n",
        "print(test_results)\n",
        "\n",
        "predictions = trainer.predict(test_dataset)\n",
        "predicted_labels = predictions.predictions.argmax(-1)\n",
        "y_true = predictions.label_ids\n",
        "print(classification_report(y_true, predicted_labels, target_names=label_encoder.classes_))\n",
        "\n",
        "cm = confusion_matrix(y_true, predicted_labels)\n",
        "cm_df = pd.DataFrame(cm, index=label_encoder.classes_, columns=label_encoder.classes_)\n",
        "print(cm_df)\n"
      ],
      "metadata": {
        "id": "pm5IzMXxDBYF",
        "colab": {
          "base_uri": "https://localhost:8080/",
          "height": 341
        },
        "outputId": "737e0fff-963c-4366-f057-a09f2356b3d5"
      },
      "execution_count": null,
      "outputs": [
        {
          "output_type": "display_data",
          "data": {
            "text/plain": [
              "<IPython.core.display.HTML object>"
            ],
            "text/html": []
          },
          "metadata": {}
        },
        {
          "output_type": "stream",
          "name": "stdout",
          "text": [
            "{'eval_loss': 1.0325173139572144, 'eval_accuracy': 0.4648776637726914, 'eval_runtime': 4.4589, 'eval_samples_per_second': 284.153, 'eval_steps_per_second': 35.659, 'epoch': 4.0}\n",
            "                  precision    recall  f1-score   support\n",
            "\n",
            "           False       0.43      0.33      0.37       341\n",
            "  Partially True       0.46      0.38      0.42       477\n",
            "True/Mostly True       0.48      0.66      0.55       449\n",
            "\n",
            "        accuracy                           0.46      1267\n",
            "       macro avg       0.46      0.46      0.45      1267\n",
            "    weighted avg       0.46      0.46      0.45      1267\n",
            "\n",
            "\n",
            "Confusion Matrix:\n",
            "                  False  Partially True  True/Mostly True\n",
            "False               112             103               126\n",
            "Partially True       99             182               196\n",
            "True/Mostly True     47             107               295\n"
          ]
        }
      ]
    },
    {
      "cell_type": "code",
      "source": [
        "# save CSV so we can make plots later and don't have to retraun\n",
        "\n",
        "predicted_df = pd.DataFrame({\n",
        "    'True_Label': [label_encoder.classes_[label] for label in y_true],\n",
        "    'Predicted_Label': [label_encoder.classes_[label] for label in predicted_labels]\n",
        "})\n",
        "\n",
        "predicted_df.to_csv('./predictions.csv', index=False)"
      ],
      "metadata": {
        "id": "CZlVg267kNaQ"
      },
      "execution_count": 227,
      "outputs": []
    },
    {
      "cell_type": "markdown",
      "source": [
        "## Plots for Results Section of Report"
      ],
      "metadata": {
        "id": "lZwSJfV6DB0C"
      }
    },
    {
      "cell_type": "code",
      "source": [
        "# make nice confusion matrix\n",
        "# CHATGPT assisted with the code to obtain this formatted matrix\n",
        "\n",
        "cm = confusion_matrix(y_true, predicted_labels)\n",
        "\n",
        "cm_df = pd.DataFrame(cm, index=label_encoder.classes_, columns=label_encoder.classes_)\n",
        "\n",
        "plt.figure(figsize=(10, 8))\n",
        "sns.heatmap(cm_df, annot=True, fmt='d', cmap='Blues', cbar=False, square=True,\n",
        "            linewidths=0.5, linecolor='black', annot_kws={\"size\": 16})\n",
        "\n",
        "plt.title(\"Confusion Matrix\", fontsize=16)\n",
        "plt.xlabel(\"Predicted Label\", fontsize=14)\n",
        "plt.ylabel(\"True Label\", fontsize=14)\n",
        "\n",
        "plt.show()"
      ],
      "metadata": {
        "colab": {
          "base_uri": "https://localhost:8080/",
          "height": 725
        },
        "id": "eYRnvdXBvMSp",
        "outputId": "123c60a3-ef3c-4597-87b2-01f5ef197b75"
      },
      "execution_count": 241,
      "outputs": [
        {
          "output_type": "display_data",
          "data": {
            "text/plain": [
              "<Figure size 1000x800 with 1 Axes>"
            ],
            "image/png": "[encoded data removed]"
          },
          "metadata": {}
        }
      ]
    },
    {
      "cell_type": "code",
      "source": [
        "# read in for plots\n",
        "# saved from the fine-tuned BERT\n",
        "\n",
        "predictions = pd.read_csv('predictions.csv')"
      ],
      "metadata": {
        "id": "sjac3L6q9VMy"
      },
      "execution_count": 5,
      "outputs": []
    },
    {
      "cell_type": "code",
      "source": [
        "# CHATGPT Assisted with plotting functions\n",
        "\n",
        "# lemmatizer for n-grams so that we can get rid of plurals\n",
        "lemmatizer = WordNetLemmatizer()\n",
        "def tokenize_and_lemma(text):\n",
        "    return [lemmatizer.lemmatize(word) for word in text.split() if word.isalpha()]\n",
        "\n",
        "y_true = np.array(predictions['True_Label'])\n",
        "y_pred = np.array(predictions['Predicted_Label'])\n",
        "\n",
        "\n",
        "# index misclassified examples\n",
        "misclassified_idx = np.where(y_true != y_pred)[0]\n",
        "misclassified_texts = X_test[misclassified_idx]\n",
        "y_true_misclassified = y_true[misclassified_idx]\n",
        "y_pred_misclassified = y_pred[misclassified_idx]\n",
        "\n",
        "\n",
        "# define misclassifications as either \"better\" (more favorable prediction) or \"worse\" (less favorable)\n",
        "def categorize_misclassification(true, pred):\n",
        "    if true != pred:\n",
        "        if true == 'False' and pred in ['Partially True', 'True/Mostly True']:\n",
        "            return 'Better'\n",
        "        elif true == 'Partially True' and pred == 'False':\n",
        "            return 'Worse'\n",
        "        elif true == 'Partially True' and pred == 'True/Mostly True':\n",
        "            return 'Better'\n",
        "        elif true == 'True/Mostly True' and pred == 'False':\n",
        "            return 'Worse'\n",
        "        elif true == 'True/Mostly True' and pred == 'Partially True':\n",
        "            return 'Worse'\n",
        "    return None\n",
        "categories = [categorize_misclassification(true, pred) for true, pred in zip(y_true_misclassified, y_pred_misclassified)]\n",
        "category_ngram_counts = {'Worse': {}, 'Better': {}}\n",
        "\n",
        "# get rid of \"say\" and \"obamas\" as they are causing far too similar trigrams\n",
        "custom_stop_words = list(set(ENGLISH_STOP_WORDS).union({'say', 'obamas'}))\n",
        "# add custom stop words to count vectorizer\n",
        "vectorizer = CountVectorizer(ngram_range=(3, 3), stop_words=custom_stop_words, tokenizer=tokenize_and_lemma)\n",
        "\n",
        "for text, category in zip(misclassified_texts, categories):\n",
        "    if category:\n",
        "        try:\n",
        "\n",
        "            # tokenize\n",
        "            ngrams = vectorizer.fit_transform([text])\n",
        "            if not vectorizer.vocabulary_:\n",
        "                continue\n",
        "\n",
        "            ngram_names = vectorizer.get_feature_names_out()\n",
        "            ngram_freqs = np.asarray(ngrams.sum(axis=0)).flatten()\n",
        "            for ngram, count in zip(ngram_names, ngram_freqs):\n",
        "                if ngram in category_ngram_counts[category]:\n",
        "                    category_ngram_counts[category][ngram] += count\n",
        "                else:\n",
        "                    category_ngram_counts[category][ngram] = count\n",
        "        except ValueError:\n",
        "            continue\n",
        "\n",
        "ngram_df = pd.DataFrame(category_ngram_counts).fillna(0)\n",
        "\n",
        "# green for \"better\", \"red\" for \"worse\"\n",
        "color_scheme = ['green', 'lightcoral']\n",
        "\n",
        "# get top 15 ngrams\n",
        "ngram_df['total'] = ngram_df.sum(axis=1)\n",
        "top_15_ngrams = ngram_df.nlargest(15, 'total').drop(columns='total')\n",
        "\n",
        "# breakdown by category\n",
        "top_15_ngrams.plot(kind='barh', stacked=True, figsize=(10, 8), color=color_scheme)\n",
        "plt.xlabel('Count')\n",
        "plt.ylabel('3-grams')\n",
        "plt.title('Top 15 3-grams in Misclassified Examples')\n",
        "plt.gca().invert_yaxis()\n",
        "plt.legend(title='Misclassification Category')\n",
        "plt.show()\n"
      ],
      "metadata": {
        "colab": {
          "base_uri": "https://localhost:8080/",
          "height": 779
        },
        "id": "6jI3aNNZ-UEi",
        "outputId": "cd106a6a-f78b-4d00-c183-f69b9cefef37"
      },
      "execution_count": 55,
      "outputs": [
        {
          "output_type": "stream",
          "name": "stderr",
          "text": [
            "/usr/local/lib/python3.10/dist-packages/sklearn/feature_extraction/text.py:521: UserWarning: The parameter 'token_pattern' will not be used since 'tokenizer' is not None'\n",
            "  warnings.warn(\n",
            "/usr/local/lib/python3.10/dist-packages/sklearn/feature_extraction/text.py:406: UserWarning: Your stop_words may be inconsistent with your preprocessing. Tokenizing the stop words generated tokens ['ha', 'u', 'wa'] not in stop_words.\n",
            "  warnings.warn(\n"
          ]
        },
        {
          "output_type": "display_data",
          "data": {
            "text/plain": [
              "<Figure size 1000x800 with 1 Axes>"
            ],
            "image/png": "[encoded data removed]"
          },
          "metadata": {}
        }
      ]
    },
    {
      "cell_type": "code",
      "source": [
        "# CHATGPT assisted in the creation of this plot\n",
        "\n",
        "\n",
        "# map party affiliation to smaller set of categories\n",
        "def categorize_party(party):\n",
        "    if party.lower() == 'democrat':\n",
        "        return 'Democrat'\n",
        "    elif party.lower() == 'republican':\n",
        "        return 'Republican'\n",
        "    elif party.lower() == 'none':\n",
        "        return 'None'\n",
        "    else:\n",
        "        return 'Other'\n",
        "predictions['party_affiliation'] = test_df['party affiliation'].apply(categorize_party)\n",
        "\n",
        "# apply misclassifcations function from above\n",
        "predictions['misclassification_category'] = [\n",
        "    categorize_misclassification(true, pred)\n",
        "    for true, pred in zip(predictions['True_Label'], predictions['Predicted_Label'])\n",
        "]\n",
        "misclassified = predictions[predictions['misclassification_category'].notnull()]\n",
        "\n",
        "# group by party and misclassification\n",
        "misclassification_counts = (\n",
        "    misclassified.groupby(['party_affiliation', 'misclassification_category'])\n",
        "    .size()\n",
        "    .unstack(fill_value=0)\n",
        ")\n",
        "\n",
        "# order for plot\n",
        "party_order = ['Democrat', 'Republican', 'Other', 'None']\n",
        "\n",
        "misclassification_counts = misclassification_counts.reindex(party_order)\n",
        "misclassification_percents = misclassification_counts.div(misclassification_counts.sum(axis=1), axis=0) * 100\n",
        "\n",
        "# color scheme as before\n",
        "color_scheme = ['green', 'lightcoral']\n",
        "\n",
        "ax = misclassification_counts.plot(\n",
        "    kind='bar',\n",
        "    stacked=True,\n",
        "    figsize=(12, 8),\n",
        "    color=color_scheme,\n",
        "    alpha=0.9\n",
        ")\n",
        "\n",
        "\n",
        "# add percentages to the plot\n",
        "for i, party in enumerate(misclassification_counts.index):\n",
        "    for j, category in enumerate(misclassification_counts.columns):\n",
        "        value = misclassification_counts.loc[party, category]\n",
        "        if value > 0:  # Only add text if there is a value\n",
        "            percent = misclassification_percents.loc[party, category]\n",
        "            ax.text(i, misclassification_counts.iloc[i, :j+1].sum() - (value / 2),\n",
        "                    f'{percent:.1f}%', ha='center', va='center', fontsize=12, color='black')\n",
        "\n",
        "plt.title('Misclassifications by Party Affiliation', fontsize=18)\n",
        "plt.xlabel('Party Affiliation', fontsize=16)\n",
        "plt.ylabel('Number of Misclassifications', fontsize=16)\n",
        "plt.xticks(rotation=45, fontsize=14)\n",
        "plt.yticks(fontsize=14)\n",
        "plt.legend(title='Misclassification Category', fontsize=12)\n",
        "plt.tight_layout()\n",
        "plt.show()\n"
      ],
      "metadata": {
        "id": "2B1JrN53h-Lf",
        "colab": {
          "base_uri": "https://localhost:8080/",
          "height": 827
        },
        "outputId": "432d452a-4647-49a0-c7f5-9812fb69aeea"
      },
      "execution_count": 56,
      "outputs": [
        {
          "output_type": "display_data",
          "data": {
            "text/plain": [
              "<Figure size 1200x800 with 1 Axes>"
            ],
            "image/png": "[encoded data removed]"
          },
          "metadata": {}
        }
      ]
    }
  ],
  "metadata": {
    "accelerator": "GPU",
    "colab": {
      "gpuType": "T4",
      "provenance": []
    },
    "kernelspec": {
      "display_name": "Python 3",
      "name": "python3"
    },
    "language_info": {
      "name": "python"
    },
    "widgets": {
      "application/vnd.jupyter.widget-state+json": {
        "99bc3286fc14435ba89a2a213760c486": {
          "model_module": "@jupyter-widgets/controls",
          "model_name": "HBoxModel",
          "model_module_version": "1.5.0",
          "state": {
            "_dom_classes": [],
            "_model_module": "@jupyter-widgets/controls",
            "_model_module_version": "1.5.0",
            "_model_name": "HBoxModel",
            "_view_count": null,
            "_view_module": "@jupyter-widgets/controls",
            "_view_module_version": "1.5.0",
            "_view_name": "HBoxView",
            "box_style": "",
            "children": [
              "IPY_MODEL_25ee76b961054d1a9c321d9db520ebb3",
              "IPY_MODEL_6ed97b6e5fe44988b5c9eb67a70b6a54",
              "IPY_MODEL_c2e3f2ea90f042898d50e2ac2464f746"
            ],
            "layout": "IPY_MODEL_da1008dafebc40ccb1efe66d799f51ba"
          }
        },
        "25ee76b961054d1a9c321d9db520ebb3": {
          "model_module": "@jupyter-widgets/controls",
          "model_name": "HTMLModel",
          "model_module_version": "1.5.0",
          "state": {
            "_dom_classes": [],
            "_model_module": "@jupyter-widgets/controls",
            "_model_module_version": "1.5.0",
            "_model_name": "HTMLModel",
            "_view_count": null,
            "_view_module": "@jupyter-widgets/controls",
            "_view_module_version": "1.5.0",
            "_view_name": "HTMLView",
            "description": "",
            "description_tooltip": null,
            "layout": "IPY_MODEL_4054ced3d54b40d68e9f855fe4b5d826",
            "placeholder": "​",
            "style": "IPY_MODEL_6e91636ffd9a4888af41dd0366a7bdae",
            "value": "model.safetensors: 100%"
          }
        },
        "6ed97b6e5fe44988b5c9eb67a70b6a54": {
          "model_module": "@jupyter-widgets/controls",
          "model_name": "FloatProgressModel",
          "model_module_version": "1.5.0",
          "state": {
            "_dom_classes": [],
            "_model_module": "@jupyter-widgets/controls",
            "_model_module_version": "1.5.0",
            "_model_name": "FloatProgressModel",
            "_view_count": null,
            "_view_module": "@jupyter-widgets/controls",
            "_view_module_version": "1.5.0",
            "_view_name": "ProgressView",
            "bar_style": "success",
            "description": "",
            "description_tooltip": null,
            "layout": "IPY_MODEL_b5495d0a9fe647afa9b539b78306a24c",
            "max": 267954768,
            "min": 0,
            "orientation": "horizontal",
            "style": "IPY_MODEL_13b9dbf62f144e2481546917fe0a7467",
            "value": 267954768
          }
        },
        "c2e3f2ea90f042898d50e2ac2464f746": {
          "model_module": "@jupyter-widgets/controls",
          "model_name": "HTMLModel",
          "model_module_version": "1.5.0",
          "state": {
            "_dom_classes": [],
            "_model_module": "@jupyter-widgets/controls",
            "_model_module_version": "1.5.0",
            "_model_name": "HTMLModel",
            "_view_count": null,
            "_view_module": "@jupyter-widgets/controls",
            "_view_module_version": "1.5.0",
            "_view_name": "HTMLView",
            "description": "",
            "description_tooltip": null,
            "layout": "IPY_MODEL_2082b6cc4c5e4c65a4ba52e02cccd586",
            "placeholder": "​",
            "style": "IPY_MODEL_4940bb4187104ca7a1ea6830d880a40f",
            "value": " 268M/268M [00:01&lt;00:00, 212MB/s]"
          }
        },
        "da1008dafebc40ccb1efe66d799f51ba": {
          "model_module": "@jupyter-widgets/base",
          "model_name": "LayoutModel",
          "model_module_version": "1.2.0",
          "state": {
            "_model_module": "@jupyter-widgets/base",
            "_model_module_version": "1.2.0",
            "_model_name": "LayoutModel",
            "_view_count": null,
            "_view_module": "@jupyter-widgets/base",
            "_view_module_version": "1.2.0",
            "_view_name": "LayoutView",
            "align_content": null,
            "align_items": null,
            "align_self": null,
            "border": null,
            "bottom": null,
            "display": null,
            "flex": null,
            "flex_flow": null,
            "grid_area": null,
            "grid_auto_columns": null,
            "grid_auto_flow": null,
            "grid_auto_rows": null,
            "grid_column": null,
            "grid_gap": null,
            "grid_row": null,
            "grid_template_areas": null,
            "grid_template_columns": null,
            "grid_template_rows": null,
            "height": null,
            "justify_content": null,
            "justify_items": null,
            "left": null,
            "margin": null,
            "max_height": null,
            "max_width": null,
            "min_height": null,
            "min_width": null,
            "object_fit": null,
            "object_position": null,
            "order": null,
            "overflow": null,
            "overflow_x": null,
            "overflow_y": null,
            "padding": null,
            "right": null,
            "top": null,
            "visibility": null,
            "width": null
          }
        },
        "4054ced3d54b40d68e9f855fe4b5d826": {
          "model_module": "@jupyter-widgets/base",
          "model_name": "LayoutModel",
          "model_module_version": "1.2.0",
          "state": {
            "_model_module": "@jupyter-widgets/base",
            "_model_module_version": "1.2.0",
            "_model_name": "LayoutModel",
            "_view_count": null,
            "_view_module": "@jupyter-widgets/base",
            "_view_module_version": "1.2.0",
            "_view_name": "LayoutView",
            "align_content": null,
            "align_items": null,
            "align_self": null,
            "border": null,
            "bottom": null,
            "display": null,
            "flex": null,
            "flex_flow": null,
            "grid_area": null,
            "grid_auto_columns": null,
            "grid_auto_flow": null,
            "grid_auto_rows": null,
            "grid_column": null,
            "grid_gap": null,
            "grid_row": null,
            "grid_template_areas": null,
            "grid_template_columns": null,
            "grid_template_rows": null,
            "height": null,
            "justify_content": null,
            "justify_items": null,
            "left": null,
            "margin": null,
            "max_height": null,
            "max_width": null,
            "min_height": null,
            "min_width": null,
            "object_fit": null,
            "object_position": null,
            "order": null,
            "overflow": null,
            "overflow_x": null,
            "overflow_y": null,
            "padding": null,
            "right": null,
            "top": null,
            "visibility": null,
            "width": null
          }
        },
        "6e91636ffd9a4888af41dd0366a7bdae": {
          "model_module": "@jupyter-widgets/controls",
          "model_name": "DescriptionStyleModel",
          "model_module_version": "1.5.0",
          "state": {
            "_model_module": "@jupyter-widgets/controls",
            "_model_module_version": "1.5.0",
            "_model_name": "DescriptionStyleModel",
            "_view_count": null,
            "_view_module": "@jupyter-widgets/base",
            "_view_module_version": "1.2.0",
            "_view_name": "StyleView",
            "description_width": ""
          }
        },
        "b5495d0a9fe647afa9b539b78306a24c": {
          "model_module": "@jupyter-widgets/base",
          "model_name": "LayoutModel",
          "model_module_version": "1.2.0",
          "state": {
            "_model_module": "@jupyter-widgets/base",
            "_model_module_version": "1.2.0",
            "_model_name": "LayoutModel",
            "_view_count": null,
            "_view_module": "@jupyter-widgets/base",
            "_view_module_version": "1.2.0",
            "_view_name": "LayoutView",
            "align_content": null,
            "align_items": null,
            "align_self": null,
            "border": null,
            "bottom": null,
            "display": null,
            "flex": null,
            "flex_flow": null,
            "grid_area": null,
            "grid_auto_columns": null,
            "grid_auto_flow": null,
            "grid_auto_rows": null,
            "grid_column": null,
            "grid_gap": null,
            "grid_row": null,
            "grid_template_areas": null,
            "grid_template_columns": null,
            "grid_template_rows": null,
            "height": null,
            "justify_content": null,
            "justify_items": null,
            "left": null,
            "margin": null,
            "max_height": null,
            "max_width": null,
            "min_height": null,
            "min_width": null,
            "object_fit": null,
            "object_position": null,
            "order": null,
            "overflow": null,
            "overflow_x": null,
            "overflow_y": null,
            "padding": null,
            "right": null,
            "top": null,
            "visibility": null,
            "width": null
          }
        },
        "13b9dbf62f144e2481546917fe0a7467": {
          "model_module": "@jupyter-widgets/controls",
          "model_name": "ProgressStyleModel",
          "model_module_version": "1.5.0",
          "state": {
            "_model_module": "@jupyter-widgets/controls",
            "_model_module_version": "1.5.0",
            "_model_name": "ProgressStyleModel",
            "_view_count": null,
            "_view_module": "@jupyter-widgets/base",
            "_view_module_version": "1.2.0",
            "_view_name": "StyleView",
            "bar_color": null,
            "description_width": ""
          }
        },
        "2082b6cc4c5e4c65a4ba52e02cccd586": {
          "model_module": "@jupyter-widgets/base",
          "model_name": "LayoutModel",
          "model_module_version": "1.2.0",
          "state": {
            "_model_module": "@jupyter-widgets/base",
            "_model_module_version": "1.2.0",
            "_model_name": "LayoutModel",
            "_view_count": null,
            "_view_module": "@jupyter-widgets/base",
            "_view_module_version": "1.2.0",
            "_view_name": "LayoutView",
            "align_content": null,
            "align_items": null,
            "align_self": null,
            "border": null,
            "bottom": null,
            "display": null,
            "flex": null,
            "flex_flow": null,
            "grid_area": null,
            "grid_auto_columns": null,
            "grid_auto_flow": null,
            "grid_auto_rows": null,
            "grid_column": null,
            "grid_gap": null,
            "grid_row": null,
            "grid_template_areas": null,
            "grid_template_columns": null,
            "grid_template_rows": null,
            "height": null,
            "justify_content": null,
            "justify_items": null,
            "left": null,
            "margin": null,
            "max_height": null,
            "max_width": null,
            "min_height": null,
            "min_width": null,
            "object_fit": null,
            "object_position": null,
            "order": null,
            "overflow": null,
            "overflow_x": null,
            "overflow_y": null,
            "padding": null,
            "right": null,
            "top": null,
            "visibility": null,
            "width": null
          }
        },
        "4940bb4187104ca7a1ea6830d880a40f": {
          "model_module": "@jupyter-widgets/controls",
          "model_name": "DescriptionStyleModel",
          "model_module_version": "1.5.0",
          "state": {
            "_model_module": "@jupyter-widgets/controls",
            "_model_module_version": "1.5.0",
            "_model_name": "DescriptionStyleModel",
            "_view_count": null,
            "_view_module": "@jupyter-widgets/base",
            "_view_module_version": "1.2.0",
            "_view_name": "StyleView",
            "description_width": ""
          }
        }
      }
    }
  },
  "nbformat": 4,
  "nbformat_minor": 0
}